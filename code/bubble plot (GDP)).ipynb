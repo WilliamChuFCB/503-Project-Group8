{
 "cells": [
  {
   "cell_type": "code",
   "execution_count": 1,
   "metadata": {},
   "outputs": [
    {
     "data": {
      "application/vnd.plotly.v1+json": {
       "config": {
        "plotlyServerURL": "https://plotly.com"
       },
       "data": [
        {
         "hovertemplate": "<b>%{hovertext}</b><br><br>Income level=High Income<br>Year=2000<br>GDP=%{x}<br>Population=%{y}<br>Refugees under UNHCR's mandate=%{marker.size}<extra></extra>",
         "hovertext": [
          "Austria",
          "Belgium",
          "Denmark",
          "Finland",
          "France",
          "Germany",
          "Greece",
          "Iceland",
          "Ireland",
          "Italy",
          "Liechtenstein",
          "Netherlands",
          "Norway",
          "Spain",
          "Sweden",
          "Switzerland",
          "United Kingdom of Great Britain and Northern Ireland"
         ],
         "ids": [
          "Austria",
          "Belgium",
          "Denmark",
          "Finland",
          "France",
          "Germany",
          "Greece",
          "Iceland",
          "Ireland",
          "Italy",
          "Liechtenstein",
          "Netherlands",
          "Norway",
          "Spain",
          "Sweden",
          "Switzerland",
          "United Kingdom of Great Britain and Northern Ireland"
         ],
         "legendgroup": "High Income",
         "marker": {
          "color": "#636efa",
          "size": [
           13878,
           13042,
           70857,
           13151,
           98970,
           30000,
           3653,
           235,
           1270,
           6228,
           70,
           141565,
           47152,
           6153,
           151548,
           57542,
           111266
          ],
          "sizemode": "area",
          "sizeref": 338.3311111111111,
          "symbol": "circle"
         },
         "mode": "markers",
         "name": "High Income",
         "orientation": "v",
         "showlegend": true,
         "type": "scatter",
         "x": [
          197289625479.906,
          236792460312.471,
          164158739097.623,
          126019543413.334,
          1365639660792.16,
          1947981991011.77,
          130457756628.436,
          9025660361.75842,
          100207610429.909,
          1146676894209.73,
          2483953102.79488,
          417479337444.707,
          171247131268.604,
          598363313494.903,
          262835454366.855,
          279216033870.204,
          1666126494174.61
         ],
         "xaxis": "x",
         "y": [
          8011566,
          10251250,
          5339616,
          5176209,
          60921384,
          82211508,
          10805808,
          281205,
          3805174,
          56942108,
          33026,
          15925513,
          4490967,
          40567864,
          8872109,
          7184250,
          58892514
         ],
         "yaxis": "y"
        },
        {
         "hovertemplate": "<b>%{hovertext}</b><br><br>Income level=Middle Income<br>Year=2000<br>GDP=%{x}<br>Population=%{y}<br>Refugees under UNHCR's mandate=%{marker.size}<extra></extra>",
         "hovertext": [
          "Albania",
          "Belarus",
          "Bosnia and Herzegovina",
          "Bulgaria",
          "Croatia",
          "Czechia",
          "Hungary",
          "Latvia",
          "Lithuania",
          "Malta",
          "North Macedonia",
          "Poland",
          "Portugal",
          "Rep. of Moldova",
          "Romania",
          "Russian Federation",
          "Serbia and Kosovo: S/RES/1244 (1999)",
          "Slovakia",
          "Slovenia",
          "Ukraine"
         ],
         "ids": [
          "Albania",
          "Belarus",
          "Bosnia and Herzegovina",
          "Bulgaria",
          "Croatia",
          "Czechia",
          "Hungary",
          "Latvia",
          "Lithuania",
          "Malta",
          "North Macedonia",
          "Poland",
          "Portugal",
          "Rep. of Moldova",
          "Romania",
          "Russian Federation",
          "Serbia and Kosovo: S/RES/1244 (1999)",
          "Slovakia",
          "Slovenia",
          "Ukraine"
         ],
         "legendgroup": "Middle Income",
         "marker": {
          "color": "#EF553B",
          "size": [
           521,
           453,
           38150,
           1470,
           22437,
           1108,
           5044,
           5,
           48,
           191,
           9048,
           1006,
           289,
           64,
           1677,
           26246,
           484390,
           444,
           2814,
           2927
          ],
          "sizemode": "area",
          "sizeref": 338.3311111111111,
          "symbol": "circle"
         },
         "mode": "markers",
         "name": "Middle Income",
         "orientation": "v",
         "showlegend": true,
         "type": "scatter",
         "x": [
          3480355258.04122,
          12736856827.9847,
          5567405605.27555,
          13245834314.5104,
          21807856145.1037,
          61828166496.0941,
          47218405892.4258,
          7958852838.93395,
          11524776866.6379,
          4323339212.2281,
          3772857145.0248,
          172219461126.067,
          118605192877.388,
          1288429391.79951,
          37253259016.9976,
          259710142196.943,
          6875845986.52121,
          29242558796.5507,
          20289627636.6767,
          32375280320.5765
         ],
         "xaxis": "x",
         "y": [
          3089027,
          9979610,
          4179350,
          8170172,
          4468302,
          10255063,
          10210971,
          2367550,
          3499536,
          390087,
          2026350,
          38258629,
          10289898,
          2924668,
          22442971,
          146596869,
          7516346,
          5388720,
          1988925,
          49176500
         ],
         "yaxis": "y"
        }
       ],
       "frames": [
        {
         "data": [
          {
           "hovertemplate": "<b>%{hovertext}</b><br><br>Income level=High Income<br>Year=2000<br>GDP=%{x}<br>Population=%{y}<br>Refugees under UNHCR's mandate=%{marker.size}<extra></extra>",
           "hovertext": [
            "Austria",
            "Belgium",
            "Denmark",
            "Finland",
            "France",
            "Germany",
            "Greece",
            "Iceland",
            "Ireland",
            "Italy",
            "Liechtenstein",
            "Netherlands",
            "Norway",
            "Spain",
            "Sweden",
            "Switzerland",
            "United Kingdom of Great Britain and Northern Ireland"
           ],
           "ids": [
            "Austria",
            "Belgium",
            "Denmark",
            "Finland",
            "France",
            "Germany",
            "Greece",
            "Iceland",
            "Ireland",
            "Italy",
            "Liechtenstein",
            "Netherlands",
            "Norway",
            "Spain",
            "Sweden",
            "Switzerland",
            "United Kingdom of Great Britain and Northern Ireland"
           ],
           "legendgroup": "High Income",
           "marker": {
            "color": "#636efa",
            "size": [
             13878,
             13042,
             70857,
             13151,
             98970,
             30000,
             3653,
             235,
             1270,
             6228,
             70,
             141565,
             47152,
             6153,
             151548,
             57542,
             111266
            ],
            "sizemode": "area",
            "sizeref": 338.3311111111111,
            "symbol": "circle"
           },
           "mode": "markers",
           "name": "High Income",
           "orientation": "v",
           "showlegend": true,
           "type": "scatter",
           "x": [
            197289625479.906,
            236792460312.471,
            164158739097.623,
            126019543413.334,
            1365639660792.16,
            1947981991011.77,
            130457756628.436,
            9025660361.75842,
            100207610429.909,
            1146676894209.73,
            2483953102.79488,
            417479337444.707,
            171247131268.604,
            598363313494.903,
            262835454366.855,
            279216033870.204,
            1666126494174.61
           ],
           "xaxis": "x",
           "y": [
            8011566,
            10251250,
            5339616,
            5176209,
            60921384,
            82211508,
            10805808,
            281205,
            3805174,
            56942108,
            33026,
            15925513,
            4490967,
            40567864,
            8872109,
            7184250,
            58892514
           ],
           "yaxis": "y"
          },
          {
           "hovertemplate": "<b>%{hovertext}</b><br><br>Income level=Middle Income<br>Year=2000<br>GDP=%{x}<br>Population=%{y}<br>Refugees under UNHCR's mandate=%{marker.size}<extra></extra>",
           "hovertext": [
            "Albania",
            "Belarus",
            "Bosnia and Herzegovina",
            "Bulgaria",
            "Croatia",
            "Czechia",
            "Hungary",
            "Latvia",
            "Lithuania",
            "Malta",
            "North Macedonia",
            "Poland",
            "Portugal",
            "Rep. of Moldova",
            "Romania",
            "Russian Federation",
            "Serbia and Kosovo: S/RES/1244 (1999)",
            "Slovakia",
            "Slovenia",
            "Ukraine"
           ],
           "ids": [
            "Albania",
            "Belarus",
            "Bosnia and Herzegovina",
            "Bulgaria",
            "Croatia",
            "Czechia",
            "Hungary",
            "Latvia",
            "Lithuania",
            "Malta",
            "North Macedonia",
            "Poland",
            "Portugal",
            "Rep. of Moldova",
            "Romania",
            "Russian Federation",
            "Serbia and Kosovo: S/RES/1244 (1999)",
            "Slovakia",
            "Slovenia",
            "Ukraine"
           ],
           "legendgroup": "Middle Income",
           "marker": {
            "color": "#EF553B",
            "size": [
             521,
             453,
             38150,
             1470,
             22437,
             1108,
             5044,
             5,
             48,
             191,
             9048,
             1006,
             289,
             64,
             1677,
             26246,
             484390,
             444,
             2814,
             2927
            ],
            "sizemode": "area",
            "sizeref": 338.3311111111111,
            "symbol": "circle"
           },
           "mode": "markers",
           "name": "Middle Income",
           "orientation": "v",
           "showlegend": true,
           "type": "scatter",
           "x": [
            3480355258.04122,
            12736856827.9847,
            5567405605.27555,
            13245834314.5104,
            21807856145.1037,
            61828166496.0941,
            47218405892.4258,
            7958852838.93395,
            11524776866.6379,
            4323339212.2281,
            3772857145.0248,
            172219461126.067,
            118605192877.388,
            1288429391.79951,
            37253259016.9976,
            259710142196.943,
            6875845986.52121,
            29242558796.5507,
            20289627636.6767,
            32375280320.5765
           ],
           "xaxis": "x",
           "y": [
            3089027,
            9979610,
            4179350,
            8170172,
            4468302,
            10255063,
            10210971,
            2367550,
            3499536,
            390087,
            2026350,
            38258629,
            10289898,
            2924668,
            22442971,
            146596869,
            7516346,
            5388720,
            1988925,
            49176500
           ],
           "yaxis": "y"
          }
         ],
         "name": "2000"
        },
        {
         "data": [
          {
           "hovertemplate": "<b>%{hovertext}</b><br><br>Income level=High Income<br>Year=2001<br>GDP=%{x}<br>Population=%{y}<br>Refugees under UNHCR's mandate=%{marker.size}<extra></extra>",
           "hovertext": [
            "Austria",
            "Belgium",
            "Denmark",
            "Finland",
            "France",
            "Germany",
            "Greece",
            "Iceland",
            "Ireland",
            "Italy",
            "Liechtenstein",
            "Netherlands",
            "Norway",
            "Spain",
            "Sweden",
            "Switzerland",
            "United Kingdom of Great Britain and Northern Ireland"
           ],
           "ids": [
            "Austria",
            "Belgium",
            "Denmark",
            "Finland",
            "France",
            "Germany",
            "Greece",
            "Iceland",
            "Ireland",
            "Italy",
            "Liechtenstein",
            "Netherlands",
            "Norway",
            "Spain",
            "Sweden",
            "Switzerland",
            "United Kingdom of Great Britain and Northern Ireland"
           ],
           "legendgroup": "High Income",
           "marker": {
            "color": "#636efa",
            "size": [
             12541,
             11113,
             64860,
             12589,
             99234,
             24000,
             6927,
             204,
             2325,
             7846,
             140,
             148015,
             49566,
             6524,
             140670,
             57199,
             136561
            ],
            "sizemode": "area",
            "sizeref": 338.3311111111111,
            "symbol": "circle"
           },
           "mode": "markers",
           "name": "High Income",
           "orientation": "v",
           "showlegend": true,
           "type": "scatter",
           "x": [
            197508773215.323,
            236746141604.37,
            164791442543.375,
            129533107311.811,
            1377657339291.34,
            1945790973803.15,
            136309295225.34,
            8234846804.60582,
            109346669229.695,
            1168023426056.38,
            2491822706.80256,
            431586852369.686,
            173972218824.027,
            627830029412.205,
            242395852494.409,
            286582672434.226,
            1648658413703.76
           ],
           "xaxis": "x",
           "y": [
            8042293,
            10286570,
            5358783,
            5188008,
            61367388,
            82349925,
            10862132,
            284968,
            3866243,
            56974100,
            33376,
            16046180,
            4513751,
            40850412,
            8895960,
            7229854,
            59119673
           ],
           "yaxis": "y"
          },
          {
           "hovertemplate": "<b>%{hovertext}</b><br><br>Income level=Middle Income<br>Year=2001<br>GDP=%{x}<br>Population=%{y}<br>Refugees under UNHCR's mandate=%{marker.size}<extra></extra>",
           "hovertext": [
            "Albania",
            "Belarus",
            "Bosnia and Herzegovina",
            "Bulgaria",
            "Croatia",
            "Czechia",
            "Estonia",
            "Hungary",
            "Latvia",
            "Lithuania",
            "Malta",
            "North Macedonia",
            "Poland",
            "Portugal",
            "Rep. of Moldova",
            "Romania",
            "Russian Federation",
            "Serbia and Kosovo: S/RES/1244 (1999)",
            "Slovakia",
            "Slovenia",
            "Ukraine"
           ],
           "ids": [
            "Albania",
            "Belarus",
            "Bosnia and Herzegovina",
            "Bulgaria",
            "Croatia",
            "Czechia",
            "Estonia",
            "Hungary",
            "Latvia",
            "Lithuania",
            "Malta",
            "North Macedonia",
            "Poland",
            "Portugal",
            "Rep. of Moldova",
            "Romania",
            "Russian Federation",
            "Serbia and Kosovo: S/RES/1244 (1999)",
            "Slovakia",
            "Slovenia",
            "Ukraine"
           ],
           "legendgroup": "Middle Income",
           "marker": {
            "color": "#EF553B",
            "size": [
             291,
             581,
             32744,
             2984,
             21875,
             1156,
             6,
             4694,
             5,
             283,
             175,
             4362,
             1290,
             329,
             156,
             1792,
             17951,
             400306,
             461,
             2411,
             2958
            ],
            "sizemode": "area",
            "sizeref": 338.3311111111111,
            "symbol": "circle"
           },
           "mode": "markers",
           "name": "Middle Income",
           "orientation": "v",
           "showlegend": true,
           "type": "scatter",
           "x": [
            3922100793.5403,
            12354820143.8849,
            5800774707.17423,
            14183497963.1071,
            23259567777.5327,
            67808032979.5429,
            6254649538.98487,
            53749989092.0197,
            8362398701.58943,
            12237388001.7264,
            4355146427.54937,
            3709637829.94866,
            190905493539.168,
            121604107164.997,
            1480673594.05602,
            40394824679.1232,
            306602070620.5,
            12960538723.7591,
            30778781606.9575,
            20876309970.385,
            39309580983.2282
           ],
           "xaxis": "x",
           "y": [
            3060173,
            9928549,
            4194932,
            8009142,
            4299642,
            10216605,
            1388115,
            10187576,
            2337170,
            3470818,
            393028,
            2034882,
            38248076,
            10362722,
            2918135,
            22131970,
            145976482,
            7503433,
            5378867,
            1992060,
            48662400
           ],
           "yaxis": "y"
          }
         ],
         "name": "2001"
        },
        {
         "data": [
          {
           "hovertemplate": "<b>%{hovertext}</b><br><br>Income level=High Income<br>Year=2002<br>GDP=%{x}<br>Population=%{y}<br>Refugees under UNHCR's mandate=%{marker.size}<extra></extra>",
           "hovertext": [
            "Austria",
            "Belgium",
            "Denmark",
            "Finland",
            "France",
            "Germany",
            "Greece",
            "Iceland",
            "Ireland",
            "Italy",
            "Liechtenstein",
            "Netherlands",
            "Norway",
            "Portugal",
            "Spain",
            "Sweden",
            "Switzerland",
            "United Kingdom of Great Britain and Northern Ireland"
           ],
           "ids": [
            "Austria",
            "Belgium",
            "Denmark",
            "Finland",
            "France",
            "Germany",
            "Greece",
            "Iceland",
            "Ireland",
            "Italy",
            "Liechtenstein",
            "Netherlands",
            "Norway",
            "Portugal",
            "Spain",
            "Sweden",
            "Switzerland",
            "United Kingdom of Great Britain and Northern Ireland"
           ],
           "legendgroup": "High Income",
           "marker": {
            "color": "#636efa",
            "size": [
             11333,
             9491,
             69427,
             9239,
             102182,
             885057,
             2628,
             197,
             4066,
             9260,
             126,
             144600,
             50069,
             346,
             6767,
             136734,
             52734,
             162536
            ],
            "sizemode": "area",
            "sizeref": 338.3311111111111,
            "symbol": "circle"
           },
           "mode": "markers",
           "name": "High Income",
           "orientation": "v",
           "showlegend": true,
           "type": "scatter",
           "x": [
            214394866675.24,
            258383599375.177,
            178635163717.431,
            140404460203.138,
            1501409382971.38,
            2078484517474.51,
            154564203586.954,
            9318395054.85934,
            128596035288.401,
            1276769338449.3,
            2688630822.53304,
            473861980070.981,
            195524186477.617,
            134795565549.419,
            708756677088.629,
            266849061835.659,
            309301422430.386,
            1785843824940.05
           ],
           "xaxis": "x",
           "y": [
            8081957,
            10332785,
            5375931,
            5200598,
            61816234,
            82488495,
            10902022,
            287523,
            3931947,
            57059007,
            33693,
            16148929,
            4538159,
            10419631,
            41431558,
            8924958,
            7284753,
            59370479
           ],
           "yaxis": "y"
          },
          {
           "hovertemplate": "<b>%{hovertext}</b><br><br>Income level=Middle Income<br>Year=2002<br>GDP=%{x}<br>Population=%{y}<br>Refugees under UNHCR's mandate=%{marker.size}<extra></extra>",
           "hovertext": [
            "Albania",
            "Belarus",
            "Bosnia and Herzegovina",
            "Bulgaria",
            "Croatia",
            "Czechia",
            "Estonia",
            "Hungary",
            "Latvia",
            "Lithuania",
            "Malta",
            "North Macedonia",
            "Poland",
            "Rep. of Moldova",
            "Romania",
            "Russian Federation",
            "Serbia and Kosovo: S/RES/1244 (1999)",
            "Slovakia",
            "Slovenia",
            "Ukraine"
           ],
           "ids": [
            "Albania",
            "Belarus",
            "Bosnia and Herzegovina",
            "Bulgaria",
            "Croatia",
            "Czechia",
            "Estonia",
            "Hungary",
            "Latvia",
            "Lithuania",
            "Malta",
            "North Macedonia",
            "Poland",
            "Rep. of Moldova",
            "Romania",
            "Russian Federation",
            "Serbia and Kosovo: S/RES/1244 (1999)",
            "Slovakia",
            "Slovenia",
            "Ukraine"
           ],
           "legendgroup": "Middle Income",
           "marker": {
            "color": "#EF553B",
            "size": [
             18,
             612,
             28020,
             3642,
             8392,
             1235,
             6,
             6069,
             5,
             363,
             311,
             2815,
             1581,
             172,
             1839,
             14924,
             354400,
             438,
             384,
             2940
            ],
            "sizemode": "area",
            "sizeref": 338.3311111111111,
            "symbol": "circle"
           },
           "mode": "markers",
           "name": "Middle Income",
           "orientation": "v",
           "showlegend": true,
           "type": "scatter",
           "x": [
            4348068242.19512,
            14594249022.8922,
            6728771318.57555,
            16402846413.0958,
            27085262278.8634,
            82196001050.7474,
            7367975887.72723,
            67608919144.3684,
            9557031605.27512,
            14259781159.0119,
            4693495693.49569,
            4018365247.44444,
            199072058823.529,
            1661818168.4226,
            46066101951.2933,
            345470494417.863,
            17120906918.3503,
            35297794385.6863,
            23489890274.3142,
            43956369917.0202
           ],
           "xaxis": "x",
           "y": [
            3051010,
            9865548,
            4198410,
            7837161,
            4302174,
            10196916,
            1379350,
            10158608,
            2310173,
            3443067,
            395969,
            2020157,
            38230364,
            2911385,
            21730496,
            145306497,
            7496522,
            5376912,
            1994530,
            48202470
           ],
           "yaxis": "y"
          }
         ],
         "name": "2002"
        },
        {
         "data": [
          {
           "hovertemplate": "<b>%{hovertext}</b><br><br>Income level=High Income<br>Year=2003<br>GDP=%{x}<br>Population=%{y}<br>Refugees under UNHCR's mandate=%{marker.size}<extra></extra>",
           "hovertext": [
            "Austria",
            "Belgium",
            "Denmark",
            "Finland",
            "France",
            "Germany",
            "Greece",
            "Iceland",
            "Ireland",
            "Italy",
            "Liechtenstein",
            "Malta",
            "Netherlands",
            "Norway",
            "Portugal",
            "Slovenia",
            "Spain",
            "Sweden",
            "Switzerland",
            "United Kingdom of Great Britain and Northern Ireland"
           ],
           "ids": [
            "Austria",
            "Belgium",
            "Denmark",
            "Finland",
            "France",
            "Germany",
            "Greece",
            "Iceland",
            "Ireland",
            "Italy",
            "Liechtenstein",
            "Malta",
            "Netherlands",
            "Norway",
            "Portugal",
            "Slovenia",
            "Spain",
            "Sweden",
            "Switzerland",
            "United Kingdom of Great Britain and Northern Ireland"
           ],
           "legendgroup": "High Income",
           "marker": {
            "color": "#636efa",
            "size": [
             12212,
             9624,
             65934,
             8194,
             100755,
             855862,
             2612,
             226,
             4675,
             9809,
             147,
             566,
             137780,
             39073,
             317,
             2065,
             5900,
             106742,
             48996,
             178768
            ],
            "sizemode": "area",
            "sizeref": 338.3311111111111,
            "symbol": "circle"
           },
           "mode": "markers",
           "name": "High Income",
           "orientation": "v",
           "showlegend": true,
           "type": "scatter",
           "x": [
            262273631180.054,
            318082528506.588,
            218096033517.009,
            171652458349.411,
            1844544792036.86,
            2501640388482.35,
            202370140236.265,
            11429333037.8443,
            164670771259.602,
            1577621707050.51,
            3070691319.52179,
            5489359280.75566,
            580070360701.96,
            228858506821.841,
            165226175536.793,
            29634713641.0968,
            907491523174.116,
            334337212322.076,
            362075086507.76,
            2056612244897.96
           ],
           "xaxis": "x",
           "y": [
            8121423,
            10376133,
            5390574,
            5213014,
            62256970,
            82534176,
            10928070,
            289521,
            3996521,
            57313203,
            34000,
            398582,
            16225302,
            4564855,
            10458821,
            1995733,
            42187645,
            8958229,
            7339001,
            59647577
           ],
           "yaxis": "y"
          },
          {
           "hovertemplate": "<b>%{hovertext}</b><br><br>Income level=Middle Income<br>Year=2003<br>GDP=%{x}<br>Population=%{y}<br>Refugees under UNHCR's mandate=%{marker.size}<extra></extra>",
           "hovertext": [
            "Albania",
            "Belarus",
            "Bosnia and Herzegovina",
            "Bulgaria",
            "Croatia",
            "Czechia",
            "Estonia",
            "Hungary",
            "Latvia",
            "Lithuania",
            "North Macedonia",
            "Poland",
            "Rep. of Moldova",
            "Romania",
            "Russian Federation",
            "Serbia and Kosovo: S/RES/1244 (1999)",
            "Slovakia",
            "Ukraine"
           ],
           "ids": [
            "Albania",
            "Belarus",
            "Bosnia and Herzegovina",
            "Bulgaria",
            "Croatia",
            "Czechia",
            "Estonia",
            "Hungary",
            "Latvia",
            "Lithuania",
            "North Macedonia",
            "Poland",
            "Rep. of Moldova",
            "Romania",
            "Russian Federation",
            "Serbia and Kosovo: S/RES/1244 (1999)",
            "Slovakia",
            "Ukraine"
           ],
           "legendgroup": "Middle Income",
           "marker": {
            "color": "#EF553B",
            "size": [
             24,
             631,
             22515,
             4047,
             4385,
             1450,
             6,
             7003,
             16,
             399,
             191,
             1817,
             97,
             1991,
             9862,
             291397,
             412,
             2851
            ],
            "sizemode": "area",
            "sizeref": 338.3311111111111,
            "symbol": "circle"
           },
           "mode": "markers",
           "name": "Middle Income",
           "orientation": "v",
           "showlegend": true,
           "type": "scatter",
           "x": [
            5611496257.14231,
            17827791321.3067,
            8498560877.09175,
            21144982397.4144,
            35022903386.8064,
            100090467581.268,
            9874013098.46432,
            85285062818.0077,
            11771975156.8073,
            18781721376.1985,
            4946292774.79046,
            217827260805.842,
            1980907434.76826,
            57806506024.0964,
            430347770731.787,
            22482365321.7656,
            46919965224.1497,
            52010238715.8475
           ],
           "xaxis": "x",
           "y": [
            3039616,
            9796749,
            4183757,
            7775327,
            4303399,
            10193998,
            1370720,
            10129552,
            2287955,
            3415213,
            2026773,
            38204570,
            2903198,
            21574326,
            144648618,
            7480591,
            5373374,
            47812949
           ],
           "yaxis": "y"
          }
         ],
         "name": "2003"
        },
        {
         "data": [
          {
           "hovertemplate": "<b>%{hovertext}</b><br><br>Income level=High Income<br>Year=2004<br>GDP=%{x}<br>Population=%{y}<br>Refugees under UNHCR's mandate=%{marker.size}<extra></extra>",
           "hovertext": [
            "Austria",
            "Belgium",
            "Denmark",
            "Finland",
            "France",
            "Germany",
            "Greece",
            "Iceland",
            "Ireland",
            "Italy",
            "Liechtenstein",
            "Malta",
            "Netherlands",
            "Norway",
            "Portugal",
            "Slovenia",
            "Spain",
            "Sweden",
            "Switzerland",
            "United Kingdom of Great Britain and Northern Ireland"
           ],
           "ids": [
            "Austria",
            "Belgium",
            "Denmark",
            "Finland",
            "France",
            "Germany",
            "Greece",
            "Iceland",
            "Ireland",
            "Italy",
            "Liechtenstein",
            "Malta",
            "Netherlands",
            "Norway",
            "Portugal",
            "Slovenia",
            "Spain",
            "Sweden",
            "Switzerland",
            "United Kingdom of Great Britain and Northern Ireland"
           ],
           "legendgroup": "High Income",
           "marker": {
            "color": "#636efa",
            "size": [
             17638,
             10739,
             61874,
             9367,
             109762,
             765757,
             2467,
             226,
             5385,
             12665,
             147,
             949,
             125371,
             41310,
             320,
             299,
             5673,
             68040,
             47469,
             187540
            ],
            "sizemode": "area",
            "sizeref": 338.3311111111111,
            "symbol": "circle"
           },
           "mode": "markers",
           "name": "High Income",
           "orientation": "v",
           "showlegend": true,
           "type": "scatter",
           "x": [
            301457562038.541,
            369214712443.206,
            251373002954.382,
            197479443979.151,
            2119633181634.37,
            2814353869359.08,
            240963562236.127,
            13825302535.7699,
            194372115041.065,
            1806542968545.56,
            3454362685.96703,
            6116591928.25112,
            658380081545.175,
            264511630666.983,
            189382122532.169,
            34414784504.2352,
            1069055675273.75,
            385118044877.465,
            403912891033.374,
            2422958623214.94
           ],
           "xaxis": "x",
           "y": [
            8171966,
            10421137,
            5404523,
            5228172,
            62716306,
            82516260,
            10955141,
            292074,
            4070262,
            57685327,
            34300,
            401268,
            16281779,
            4591910,
            10483861,
            1997012,
            42921895,
            8993531,
            7389625,
            59987905
           ],
           "yaxis": "y"
          },
          {
           "hovertemplate": "<b>%{hovertext}</b><br><br>Income level=Middle Income<br>Year=2004<br>GDP=%{x}<br>Population=%{y}<br>Refugees under UNHCR's mandate=%{marker.size}<extra></extra>",
           "hovertext": [
            "Albania",
            "Belarus",
            "Bosnia and Herzegovina",
            "Bulgaria",
            "Croatia",
            "Czechia",
            "Estonia",
            "Hungary",
            "Latvia",
            "Lithuania",
            "North Macedonia",
            "Poland",
            "Rep. of Moldova",
            "Romania",
            "Russian Federation",
            "Serbia and Kosovo: S/RES/1244 (1999)",
            "Slovakia",
            "Ukraine"
           ],
           "ids": [
            "Albania",
            "Belarus",
            "Bosnia and Herzegovina",
            "Bulgaria",
            "Croatia",
            "Czechia",
            "Estonia",
            "Hungary",
            "Latvia",
            "Lithuania",
            "North Macedonia",
            "Poland",
            "Rep. of Moldova",
            "Romania",
            "Russian Federation",
            "Serbia and Kosovo: S/RES/1244 (1999)",
            "Slovakia",
            "Ukraine"
           ],
           "legendgroup": "Middle Income",
           "marker": {
            "color": "#EF553B",
            "size": [
             49,
             719,
             22209,
             4608,
             3662,
             1552,
             6,
             7469,
             10,
             469,
             1003,
             2491,
             51,
             1589,
             1792,
             276677,
             264,
             2442
            ],
            "sizemode": "area",
            "sizeref": 338.3311111111111,
            "symbol": "circle"
           },
           "mode": "markers",
           "name": "Middle Income",
           "orientation": "v",
           "showlegend": true,
           "type": "scatter",
           "x": [
            7184685781.51876,
            23144351851.8519,
            10157553968.254,
            26157892832.2011,
            42013459301.7962,
            119814434353.575,
            12145911801.2422,
            104120820258.669,
            14435700533.368,
            22627507451.5648,
            5682788267.12865,
            255110181539.808,
            2598249555.89984,
            74972669056.5922,
            591016690742.798,
            26141968161.0924,
            57437444469.087,
            67220154164.3166
           ],
           "xaxis": "x",
           "y": [
            3026939,
            9730146,
            4142860,
            7716860,
            4304600,
            10197101,
            1362550,
            10107146,
            2263122,
            3377075,
            2032544,
            38182222,
            2896023,
            21451748,
            144067316,
            7463157,
            5372280,
            47451626
           ],
           "yaxis": "y"
          }
         ],
         "name": "2004"
        },
        {
         "data": [
          {
           "hovertemplate": "<b>%{hovertext}</b><br><br>Income level=High Income<br>Year=2005<br>GDP=%{x}<br>Population=%{y}<br>Refugees under UNHCR's mandate=%{marker.size}<extra></extra>",
           "hovertext": [
            "Austria",
            "Belgium",
            "Czechia",
            "Denmark",
            "Finland",
            "France",
            "Germany",
            "Greece",
            "Iceland",
            "Ireland",
            "Italy",
            "Liechtenstein",
            "Malta",
            "Netherlands",
            "Norway",
            "Portugal",
            "Slovenia",
            "Spain",
            "Sweden",
            "Switzerland",
            "United Kingdom of Great Britain and Northern Ireland"
           ],
           "ids": [
            "Austria",
            "Belgium",
            "Czechia",
            "Denmark",
            "Finland",
            "France",
            "Germany",
            "Greece",
            "Iceland",
            "Ireland",
            "Italy",
            "Liechtenstein",
            "Malta",
            "Netherlands",
            "Norway",
            "Portugal",
            "Slovenia",
            "Spain",
            "Sweden",
            "Switzerland",
            "United Kingdom of Great Britain and Northern Ireland"
           ],
           "legendgroup": "High Income",
           "marker": {
            "color": "#636efa",
            "size": [
             20954,
             14007,
             1729,
             41859,
             10405,
             118144,
             685908,
             2367,
             254,
             6619,
             17571,
             148,
             1330,
             115997,
             41619,
             290,
             243,
             5352,
             69557,
             47986,
             192957
            ],
            "sizemode": "area",
            "sizeref": 338.3311111111111,
            "symbol": "circle"
           },
           "mode": "markers",
           "name": "High Income",
           "orientation": "v",
           "showlegend": true,
           "type": "scatter",
           "x": [
            316092273276.015,
            385714762230.039,
            137143471328.274,
            264467336457.17,
            204885494686.381,
            2196945232435.8,
            2846864211175.1,
            247875422204.414,
            16852963067.0496,
            211876989655.907,
            1858217147203.73,
            3659251525.8593,
            6407287650.7897,
            685348181515.953,
            308884284051.222,
            197253876704.921,
            36206395970.6504,
            1153715822717.51,
            392218088878.779,
            418284865884.998,
            2544805454545.45
           ],
           "xaxis": "x",
           "y": [
            8227829,
            10478617,
            10211216,
            5419432,
            5246096,
            63188395,
            82469422,
            10987314,
            296734,
            4159914,
            57969484,
            34603,
            403834,
            16319868,
            4623291,
            10503330,
            2000474,
            43653155,
            9029572,
            7437115,
            60401206
           ],
           "yaxis": "y"
          },
          {
           "hovertemplate": "<b>%{hovertext}</b><br><br>Income level=Middle Income<br>Year=2005<br>GDP=%{x}<br>Population=%{y}<br>Refugees under UNHCR's mandate=%{marker.size}<extra></extra>",
           "hovertext": [
            "Albania",
            "Belarus",
            "Bosnia and Herzegovina",
            "Bulgaria",
            "Croatia",
            "Hungary",
            "Latvia",
            "Lithuania",
            "North Macedonia",
            "Poland",
            "Rep. of Moldova",
            "Romania",
            "Russian Federation",
            "Serbia and Kosovo: S/RES/1244 (1999)",
            "Slovakia",
            "Ukraine"
           ],
           "ids": [
            "Albania",
            "Belarus",
            "Bosnia and Herzegovina",
            "Bulgaria",
            "Croatia",
            "Hungary",
            "Latvia",
            "Lithuania",
            "North Macedonia",
            "Poland",
            "Rep. of Moldova",
            "Romania",
            "Russian Federation",
            "Serbia and Kosovo: S/RES/1244 (1999)",
            "Slovakia",
            "Ukraine"
           ],
           "legendgroup": "Middle Income",
           "marker": {
            "color": "#EF553B",
            "size": [
             53,
             718,
             10566,
             4388,
             2927,
             7923,
             10,
             527,
             1273,
             4585,
             79,
             2019,
             1503,
             148259,
             286,
             2334
            ],
            "sizemode": "area",
            "sizeref": 338.3311111111111,
            "symbol": "circle"
           },
           "mode": "markers",
           "name": "Middle Income",
           "orientation": "v",
           "showlegend": true,
           "type": "scatter",
           "x": [
            8052073539.38058,
            30207567316.6202,
            11222953328.6704,
            29869284035.3218,
            45835098187.6637,
            113211158292.936,
            17003459863.0989,
            26097677571.8373,
            6258600713.82627,
            306144336269.51,
            2988348836.471,
            98452791982.7024,
            764017107992.391,
            27683225959.2468,
            62808723476.719,
            89239370109.4698
           ],
           "xaxis": "x",
           "y": [
            3011487,
            9663915,
            4094297,
            7658972,
            4310145,
            10087065,
            2238799,
            3322528,
            2036855,
            38165445,
            2888985,
            21319685,
            143518814,
            7440769,
            5372807,
            47105171
           ],
           "yaxis": "y"
          }
         ],
         "name": "2005"
        },
        {
         "data": [
          {
           "hovertemplate": "<b>%{hovertext}</b><br><br>Income level=High Income<br>Year=2006<br>GDP=%{x}<br>Population=%{y}<br>Refugees under UNHCR's mandate=%{marker.size}<extra></extra>",
           "hovertext": [
            "Austria",
            "Belgium",
            "Czechia",
            "Denmark",
            "Finland",
            "France",
            "Germany",
            "Greece",
            "Iceland",
            "Ireland",
            "Italy",
            "Liechtenstein",
            "Malta",
            "Netherlands",
            "Norway",
            "Portugal",
            "Slovakia",
            "Slovenia",
            "Spain",
            "Sweden",
            "Switzerland",
            "United Kingdom of Great Britain and Northern Ireland"
           ],
           "ids": [
            "Austria",
            "Belgium",
            "Czechia",
            "Denmark",
            "Finland",
            "France",
            "Germany",
            "Greece",
            "Iceland",
            "Ireland",
            "Italy",
            "Liechtenstein",
            "Malta",
            "Netherlands",
            "Norway",
            "Portugal",
            "Slovakia",
            "Slovenia",
            "Spain",
            "Sweden",
            "Switzerland",
            "United Kingdom of Great Britain and Northern Ireland"
           ],
           "legendgroup": "High Income",
           "marker": {
            "color": "#636efa",
            "size": [
             25212,
             15101,
             1807,
             35624,
             11246,
             123386,
             532482,
             2264,
             254,
             7462,
             23480,
             266,
             1795,
             98037,
             42757,
             266,
             225,
             249,
             5254,
             75922,
             48336,
             194757
            ],
            "sizemode": "area",
            "sizeref": 338.3311111111111,
            "symbol": "circle"
           },
           "mode": "markers",
           "name": "High Income",
           "orientation": "v",
           "showlegend": true,
           "type": "scatter",
           "x": [
            336280064332.411,
            408259840868.823,
            156264095664.643,
            282884947702.966,
            217089269791.764,
            2320536221304.7,
            2994703642023.53,
            273546728473.073,
            17465318552.2941,
            232180617162.279,
            1949551719389.64,
            4000239272.61126,
            6778321415.12985,
            733955269898.823,
            345581369965.54,
            208756449275.848,
            70767338922.4411,
            39481045038.2637,
            1260398977831.76,
            423093437423.762,
            441634672196.523,
            2709911683532.66
           ],
           "xaxis": "x",
           "y": [
            8268641,
            10547958,
            10238905,
            5437272,
            5266268,
            63628261,
            82376451,
            11020362,
            303782,
            4273591,
            58143979,
            34889,
            405308,
            16346101,
            4660677,
            10522288,
            5373054,
            2006868,
            44397319,
            9080505,
            7483934,
            60846820
           ],
           "yaxis": "y"
          },
          {
           "hovertemplate": "<b>%{hovertext}</b><br><br>Income level=Middle Income<br>Year=2006<br>GDP=%{x}<br>Population=%{y}<br>Refugees under UNHCR's mandate=%{marker.size}<extra></extra>",
           "hovertext": [
            "Albania",
            "Belarus",
            "Bosnia and Herzegovina",
            "Bulgaria",
            "Croatia",
            "Hungary",
            "Latvia",
            "Lithuania",
            "Montenegro",
            "North Macedonia",
            "Poland",
            "Rep. of Moldova",
            "Romania",
            "Russian Federation",
            "Serbia and Kosovo: S/RES/1244 (1999)",
            "Ukraine"
           ],
           "ids": [
            "Albania",
            "Belarus",
            "Bosnia and Herzegovina",
            "Bulgaria",
            "Croatia",
            "Hungary",
            "Latvia",
            "Lithuania",
            "Montenegro",
            "North Macedonia",
            "Poland",
            "Rep. of Moldova",
            "Romania",
            "Russian Federation",
            "Serbia and Kosovo: S/RES/1244 (1999)",
            "Ukraine"
           ],
           "legendgroup": "Middle Income",
           "marker": {
            "color": "#EF553B",
            "size": [
             56,
             683,
             10315,
             4479,
             2442,
             7941,
             22,
             527,
             6926,
             1239,
             6786,
             157,
             1636,
             1404,
             98995,
             2267
            ],
            "sizemode": "area",
            "sizeref": 338.3311111111111,
            "symbol": "circle"
           },
           "mode": "markers",
           "name": "Middle Income",
           "orientation": "v",
           "showlegend": true,
           "type": "scatter",
           "x": [
            8896072918.9814,
            36954312354.3124,
            12864610865.2428,
            34379808888.6039,
            50915016294.105,
            115715618613.052,
            21570076498.6205,
            30183575103.5262,
            2721903148.91482,
            6861222331.96317,
            344622003093.581,
            3408244549.19999,
            122022997508.01,
            989930542278.695,
            32482070360.3204,
            111884752475.248
           ],
           "xaxis": "x",
           "y": [
            2992547,
            9604924,
            4058086,
            7601022,
            4311159,
            10071370,
            2218357,
            3269909,
            615025,
            2040228,
            38141267,
            2880967,
            21193760,
            143049637,
            7411569,
            46787786
           ],
           "yaxis": "y"
          }
         ],
         "name": "2006"
        },
        {
         "data": [
          {
           "hovertemplate": "<b>%{hovertext}</b><br><br>Income level=High Income<br>Year=2007<br>GDP=%{x}<br>Population=%{y}<br>Refugees under UNHCR's mandate=%{marker.size}<extra></extra>",
           "hovertext": [
            "Austria",
            "Belgium",
            "Croatia",
            "Czechia",
            "Denmark",
            "Estonia",
            "Finland",
            "France",
            "Germany",
            "Greece",
            "Hungary",
            "Iceland",
            "Ireland",
            "Italy",
            "Latvia",
            "Liechtenstein",
            "Malta",
            "Netherlands",
            "Norway",
            "Portugal",
            "Slovakia",
            "Slovenia",
            "Spain",
            "Sweden",
            "Switzerland",
            "United Kingdom of Great Britain and Northern Ireland"
           ],
           "ids": [
            "Austria",
            "Belgium",
            "Croatia",
            "Czechia",
            "Denmark",
            "Estonia",
            "Finland",
            "France",
            "Germany",
            "Greece",
            "Hungary",
            "Iceland",
            "Ireland",
            "Italy",
            "Latvia",
            "Liechtenstein",
            "Malta",
            "Netherlands",
            "Norway",
            "Portugal",
            "Slovakia",
            "Slovenia",
            "Spain",
            "Sweden",
            "Switzerland",
            "United Kingdom of Great Britain and Northern Ireland"
           ],
           "legendgroup": "High Income",
           "marker": {
            "color": "#636efa",
            "size": [
             30477,
             14173,
             1641,
             2000,
             26308,
             6,
             6137,
             129853,
             558176,
             2199,
             7971,
             41,
             8816,
             34671,
             27,
             270,
             2391,
             83848,
             34190,
             290,
             260,
             255,
             5109,
             72243,
             45511,
             197365
            ],
            "sizemode": "area",
            "sizeref": 338.3311111111111,
            "symbol": "circle"
           },
           "mode": "markers",
           "name": "High Income",
           "orientation": "v",
           "showlegend": true,
           "type": "scatter",
           "x": [
            389185571506.052,
            470922156309.453,
            60641942979.2183,
            190183800884.018,
            319423424509.066,
            22449129482.617,
            256378067752.158,
            2660591246211.77,
            3425578382921.58,
            318902829550.733,
            140186716681.425,
            21652505596.7528,
            270079279419.5,
            2213102482751.46,
            31054350977.9784,
            4601299566.81106,
            7925403777.71694,
            848558887541.179,
            400937100158.657,
            240496147317.381,
            86563986799.2505,
            48067401207.3978,
            1474002579820,
            491252589217.021,
            490740715594.802,
            3092821128451.38
           ],
           "xaxis": "x",
           "y": [
            8295487,
            10625700,
            4310217,
            10298828,
            5461438,
            1340680,
            5288720,
            64021737,
            82266372,
            11048473,
            10055780,
            311566,
            4398942,
            58438310,
            2200325,
            35150,
            406724,
            16381696,
            4709153,
            10542964,
            5374622,
            2018122,
            45226803,
            9148092,
            7551117,
            61322463
           ],
           "yaxis": "y"
          },
          {
           "hovertemplate": "<b>%{hovertext}</b><br><br>Income level=Middle Income<br>Year=2007<br>GDP=%{x}<br>Population=%{y}<br>Refugees under UNHCR's mandate=%{marker.size}<extra></extra>",
           "hovertext": [
            "Albania",
            "Belarus",
            "Bosnia and Herzegovina",
            "Bulgaria",
            "Lithuania",
            "Montenegro",
            "North Macedonia",
            "Poland",
            "Rep. of Moldova",
            "Romania",
            "Russian Federation",
            "Serbia and Kosovo: S/RES/1244 (1999)",
            "Ukraine"
           ],
           "ids": [
            "Albania",
            "Belarus",
            "Bosnia and Herzegovina",
            "Bulgaria",
            "Lithuania",
            "Montenegro",
            "North Macedonia",
            "Poland",
            "Rep. of Moldova",
            "Romania",
            "Russian Federation",
            "Serbia and Kosovo: S/RES/1244 (1999)",
            "Ukraine"
           ],
           "legendgroup": "Middle Income",
           "marker": {
            "color": "#EF553B",
            "size": [
             68,
             643,
             7364,
             4808,
             688,
             8527,
             1234,
             10037,
             140,
             1741,
             1631,
             97991,
             7272
            ],
            "sizemode": "area",
            "sizeref": 338.3311111111111,
            "symbol": "circle"
           },
           "mode": "markers",
           "name": "Middle Income",
           "orientation": "v",
           "showlegend": true,
           "type": "scatter",
           "x": [
            10677324144.4289,
            45277399813.6067,
            15778767389.7831,
            44432811756.4731,
            39697891351.9431,
            3680711743.77224,
            8336478142.08872,
            429028505365.078,
            4401189466.14058,
            174585202805.233,
            1299705764823.62,
            43170990616.4729,
            148733861386.139
           ],
           "xaxis": "x",
           "y": [
            2970017,
            9560953,
            4007876,
            7545338,
            3231294,
            615875,
            2043559,
            38120560,
            2874299,
            20882982,
            142805114,
            7381579,
            46509355
           ],
           "yaxis": "y"
          }
         ],
         "name": "2007"
        },
        {
         "data": [
          {
           "hovertemplate": "<b>%{hovertext}</b><br><br>Income level=High Income<br>Year=2008<br>GDP=%{x}<br>Population=%{y}<br>Refugees under UNHCR's mandate=%{marker.size}<extra></extra>",
           "hovertext": [
            "Austria",
            "Belgium",
            "Croatia",
            "Czechia",
            "Denmark",
            "Estonia",
            "Finland",
            "France",
            "Germany",
            "Greece",
            "Hungary",
            "Iceland",
            "Ireland",
            "Italy",
            "Latvia",
            "Liechtenstein",
            "Lithuania",
            "Malta",
            "Netherlands",
            "Norway",
            "Poland",
            "Portugal",
            "Slovakia",
            "Slovenia",
            "Spain",
            "Sweden",
            "Switzerland",
            "United Kingdom of Great Britain and Northern Ireland"
           ],
           "ids": [
            "Austria",
            "Belgium",
            "Croatia",
            "Czechia",
            "Denmark",
            "Estonia",
            "Finland",
            "France",
            "Germany",
            "Greece",
            "Hungary",
            "Iceland",
            "Ireland",
            "Italy",
            "Latvia",
            "Liechtenstein",
            "Lithuania",
            "Malta",
            "Netherlands",
            "Norway",
            "Poland",
            "Portugal",
            "Slovakia",
            "Slovenia",
            "Spain",
            "Sweden",
            "Switzerland",
            "United Kingdom of Great Britain and Northern Ireland"
           ],
           "legendgroup": "High Income",
           "marker": {
            "color": "#636efa",
            "size": [
             37241,
             12751,
             1591,
             2077,
             23345,
             16,
             6548,
             138032,
             569607,
             2136,
             7581,
             39,
             9279,
             43617,
             27,
             76,
             749,
             3720,
             74763,
             36012,
             12761,
             369,
             301,
             257,
             4614,
             74230,
             45892,
             195586
            ],
            "sizemode": "area",
            "sizeref": 338.3311111111111,
            "symbol": "circle"
           },
           "mode": "markers",
           "name": "High Income",
           "orientation": "v",
           "showlegend": true,
           "type": "scatter",
           "x": [
            432051935642.945,
            517328087920.078,
            70943300079.4666,
            236816485762.988,
            353361038818.383,
            24341678628.9732,
            285716311136.719,
            2930303780828.12,
            3745264093617.19,
            355908689477.445,
            158325614580.628,
            18074622987.0185,
            275447471451.063,
            2408655348718.59,
            35854274228.9139,
            5081432924.0144,
            47797551587.8823,
            9090376446.46258,
            951869997864.062,
            462250000000,
            533609081852.897,
            263416394624.084,
            100879902984.983,
            55779427739.6609,
            1631863493552.34,
            517706149201.196,
            567267767519.158,
            2931501838235.29
           ],
           "xaxis": "x",
           "y": [
            8321496,
            10709973,
            4309705,
            10384603,
            5493621,
            1337090,
            5313399,
            64379696,
            82110097,
            11077841,
            10038188,
            317414,
            4489544,
            58826731,
            2177322,
            35401,
            3198231,
            409379,
            16445593,
            4768212,
            38125759,
            10558177,
            5379233,
            2021316,
            45954106,
            9219637,
            7647675,
            61806995
           ],
           "yaxis": "y"
          },
          {
           "hovertemplate": "<b>%{hovertext}</b><br><br>Income level=Middle Income<br>Year=2008<br>GDP=%{x}<br>Population=%{y}<br>Refugees under UNHCR's mandate=%{marker.size}<extra></extra>",
           "hovertext": [
            "Albania",
            "Belarus",
            "Bosnia and Herzegovina",
            "Bulgaria",
            "Montenegro",
            "North Macedonia",
            "Rep. of Moldova",
            "Romania",
            "Russian Federation",
            "Serbia and Kosovo: S/RES/1244 (1999)",
            "Ukraine"
           ],
           "ids": [
            "Albania",
            "Belarus",
            "Bosnia and Herzegovina",
            "Bulgaria",
            "Montenegro",
            "North Macedonia",
            "Rep. of Moldova",
            "Romania",
            "Russian Federation",
            "Serbia and Kosovo: S/RES/1244 (1999)",
            "Ukraine"
           ],
           "legendgroup": "Middle Income",
           "marker": {
            "color": "#EF553B",
            "size": [
             57,
             602,
             7254,
             5108,
             24739,
             1671,
             135,
             1586,
             3470,
             96735,
             7189
            ],
            "sizemode": "area",
            "sizeref": 338.3311111111111,
            "symbol": "circle"
           },
           "mode": "markers",
           "name": "Middle Income",
           "orientation": "v",
           "showlegend": true,
           "type": "scatter",
           "x": [
            12881353507.8539,
            60763483146.0674,
            19112739364.8892,
            54481376860.3695,
            4545674527.61096,
            9909548410.82744,
            6054849884.52656,
            214313628965.024,
            1660846387624.78,
            52194221468.5007,
            188111140643.985
           ],
           "xaxis": "x",
           "y": [
            2947314,
            9527985,
            3943392,
            7492561,
            616969,
            2046898,
            2868833,
            20537875,
            142742366,
            7350222,
            46258189
           ],
           "yaxis": "y"
          }
         ],
         "name": "2008"
        },
        {
         "data": [
          {
           "hovertemplate": "<b>%{hovertext}</b><br><br>Income level=High Income<br>Year=2009<br>GDP=%{x}<br>Population=%{y}<br>Refugees under UNHCR's mandate=%{marker.size}<extra></extra>",
           "hovertext": [
            "Austria",
            "Belgium",
            "Croatia",
            "Czechia",
            "Denmark",
            "Estonia",
            "Finland",
            "France",
            "Germany",
            "Greece",
            "Hungary",
            "Iceland",
            "Ireland",
            "Italy",
            "Latvia",
            "Liechtenstein",
            "Malta",
            "Netherlands",
            "Norway",
            "Portugal",
            "Slovakia",
            "Slovenia",
            "Spain",
            "Sweden",
            "Switzerland",
            "United Kingdom of Great Britain and Northern Ireland"
           ],
           "ids": [
            "Austria",
            "Belgium",
            "Croatia",
            "Czechia",
            "Denmark",
            "Estonia",
            "Finland",
            "France",
            "Germany",
            "Greece",
            "Hungary",
            "Iceland",
            "Ireland",
            "Italy",
            "Latvia",
            "Liechtenstein",
            "Malta",
            "Netherlands",
            "Norway",
            "Portugal",
            "Slovakia",
            "Slovenia",
            "Spain",
            "Sweden",
            "Switzerland",
            "United Kingdom of Great Britain and Northern Ireland"
           ],
           "legendgroup": "High Income",
           "marker": {
            "color": "#636efa",
            "size": [
             38585,
             12855,
             1240,
             2284,
             20306,
             16,
             7383,
             151170,
             579340,
             1601,
             5885,
             58,
             9126,
             51466,
             40,
             78,
             5342,
             72915,
             37742,
             359,
             387,
             281,
             3890,
             80628,
             45844,
             188033
            ],
            "sizemode": "area",
            "sizeref": 338.3311111111111,
            "symbol": "circle"
           },
           "mode": "markers",
           "name": "High Income",
           "orientation": "v",
           "showlegend": true,
           "type": "scatter",
           "x": [
            401758735822.211,
            483254171097.812,
            63324394633.9008,
            207434296805.33,
            321241303699.006,
            19633031397.6104,
            253497520828.515,
            2700887366932.03,
            3411261212652.34,
            331308500253.274,
            131069255620.567,
            13154414219.207,
            236443115853.695,
            2199928804118.63,
            26410909090.9091,
            4504549214.22663,
            8696304529.03584,
            871518638049.218,
            386190385318.767,
            244667762835.543,
            89399303222.155,
            50567734885.9613,
            1491472923706.64,
            436537014293.554,
            554212916092.271,
            2417638261411.43
           ],
           "xaxis": "x",
           "y": [
            8343323,
            10796493,
            4305181,
            10443936,
            5523095,
            1334515,
            5338871,
            64710879,
            81902307,
            11107017,
            10022650,
            318499,
            4535375,
            59095365,
            2141669,
            35675,
            412477,
            16530388,
            4828726,
            10568247,
            5386406,
            2039669,
            46362946,
            9298515,
            7743831,
            62276270
           ],
           "yaxis": "y"
          },
          {
           "hovertemplate": "<b>%{hovertext}</b><br><br>Income level=Middle Income<br>Year=2009<br>GDP=%{x}<br>Population=%{y}<br>Refugees under UNHCR's mandate=%{marker.size}<extra></extra>",
           "hovertext": [
            "Albania",
            "Belarus",
            "Bosnia and Herzegovina",
            "Bulgaria",
            "Lithuania",
            "Montenegro",
            "North Macedonia",
            "Poland",
            "Rep. of Moldova",
            "Romania",
            "Russian Federation",
            "Serbia and Kosovo: S/RES/1244 (1999)",
            "Ukraine"
           ],
           "ids": [
            "Albania",
            "Belarus",
            "Bosnia and Herzegovina",
            "Bulgaria",
            "Lithuania",
            "Montenegro",
            "North Macedonia",
            "Poland",
            "Rep. of Moldova",
            "Romania",
            "Russian Federation",
            "Serbia and Kosovo: S/RES/1244 (1999)",
            "Ukraine"
           ],
           "legendgroup": "Middle Income",
           "marker": {
            "color": "#EF553B",
            "size": [
             69,
             578,
             7130,
             5375,
             790,
             24017,
             1541,
             15299,
             131,
             1065,
             4866,
             86348,
             7321
            ],
            "sizemode": "area",
            "sizeref": 338.3311111111111,
            "symbol": "circle"
           },
           "mode": "markers",
           "name": "Middle Income",
           "orientation": "v",
           "showlegend": true,
           "type": "scatter",
           "x": [
            12044208085.864,
            50874078052.2735,
            17613836494.0692,
            52023505367.1714,
            37388122046.1496,
            4159330369.5471,
            9401731495.71661,
            439737508413.192,
            5439422031.39627,
            174103695930.213,
            1222644282201.86,
            45162894380.9318,
            121552777492.556
           ],
           "xaxis": "x",
           "y": [
            2927519,
            9504583,
            3877750,
            7444443,
            3162916,
            618294,
            2050671,
            38151603,
            2865213,
            20367487,
            142785349,
            7320807,
            46053331
           ],
           "yaxis": "y"
          }
         ],
         "name": "2009"
        },
        {
         "data": [
          {
           "hovertemplate": "<b>%{hovertext}</b><br><br>Income level=High Income<br>Year=2010<br>GDP=%{x}<br>Population=%{y}<br>Refugees under UNHCR's mandate=%{marker.size}<extra></extra>",
           "hovertext": [
            "Austria",
            "Belgium",
            "Croatia",
            "Czechia",
            "Denmark",
            "Estonia",
            "Finland",
            "France",
            "Germany",
            "Greece",
            "Hungary",
            "Iceland",
            "Ireland",
            "Italy",
            "Liechtenstein",
            "Malta",
            "Netherlands",
            "Norway",
            "Portugal",
            "Slovakia",
            "Slovenia",
            "Spain",
            "Sweden",
            "Switzerland",
            "United Kingdom of Great Britain and Northern Ireland"
           ],
           "ids": [
            "Austria",
            "Belgium",
            "Croatia",
            "Czechia",
            "Denmark",
            "Estonia",
            "Finland",
            "France",
            "Germany",
            "Greece",
            "Hungary",
            "Iceland",
            "Ireland",
            "Italy",
            "Liechtenstein",
            "Malta",
            "Netherlands",
            "Norway",
            "Portugal",
            "Slovakia",
            "Slovenia",
            "Spain",
            "Sweden",
            "Switzerland",
            "United Kingdom of Great Britain and Northern Ireland"
           ],
           "legendgroup": "High Income",
           "marker": {
            "color": "#636efa",
            "size": [
             42300,
             13413,
             933,
             2416,
             17843,
             31,
             8641,
             158457,
             579818,
             1344,
             5230,
             72,
             9059,
             53344,
             78,
             5534,
             71650,
             40186,
             344,
             451,
             315,
             3743,
             81954,
             48383,
             166255
            ],
            "sizemode": "area",
            "sizeref": 338.3311111111111,
            "symbol": "circle"
           },
           "mode": "markers",
           "name": "High Income",
           "orientation": "v",
           "showlegend": true,
           "type": "scatter",
           "x": [
            392275107258.667,
            481420882905.001,
            60672093864.787,
            209069940963.177,
            321995279401.502,
            19523477325.6235,
            249424310816.667,
            2645187882116.67,
            3399667820000.01,
            297124961971.501,
            132175349953.713,
            13751161917.7398,
            221913560882.367,
            2136099955236.67,
            5082366478.08994,
            9035927349.8608,
            847380859016.668,
            428757038466.841,
            238113003233.284,
            91162836320.3502,
            48208240226.4501,
            1422108199783.34,
            495812558843.31,
            598851028906.58,
            2491397494467.95
           ],
           "xaxis": "x",
           "y": [
            8363404,
            10895586,
            4295427,
            10474410,
            5547683,
            1331475,
            5363352,
            65030575,
            81776930,
            11121341,
            10000023,
            318041,
            4560155,
            59277417,
            35926,
            414508,
            16615394,
            4889252,
            10573100,
            5391428,
            2048583,
            46576897,
            9378126,
            7824909,
            62766365
           ],
           "yaxis": "y"
          },
          {
           "hovertemplate": "<b>%{hovertext}</b><br><br>Income level=Middle Income<br>Year=2010<br>GDP=%{x}<br>Population=%{y}<br>Refugees under UNHCR's mandate=%{marker.size}<extra></extra>",
           "hovertext": [
            "Albania",
            "Belarus",
            "Bosnia and Herzegovina",
            "Bulgaria",
            "Latvia",
            "Lithuania",
            "Montenegro",
            "North Macedonia",
            "Poland",
            "Rep. of Moldova",
            "Romania",
            "Russian Federation",
            "Serbia and Kosovo: S/RES/1244 (1999)",
            "Ukraine"
           ],
           "ids": [
            "Albania",
            "Belarus",
            "Bosnia and Herzegovina",
            "Bulgaria",
            "Latvia",
            "Lithuania",
            "Montenegro",
            "North Macedonia",
            "Poland",
            "Rep. of Moldova",
            "Romania",
            "Russian Federation",
            "Serbia and Kosovo: S/RES/1244 (1999)",
            "Ukraine"
           ],
           "legendgroup": "Middle Income",
           "marker": {
            "color": "#EF553B",
            "size": [
             75,
             587,
             7014,
             5519,
             60,
             808,
             16363,
             1397,
             15537,
             132,
             1019,
             4901,
             73604,
             3016
            ],
            "sizemode": "area",
            "sizeref": 338.3311111111111,
            "symbol": "circle"
           },
           "mode": "markers",
           "name": "Middle Income",
           "orientation": "v",
           "showlegend": true,
           "type": "scatter",
           "x": [
            11926922828.9911,
            57222490768.7143,
            17176781065.8902,
            50682061053.2016,
            23956163076.5575,
            37128694028.243,
            4143033275.88493,
            9407168702.4313,
            475696613935.595,
            6974982392.67155,
            170029359010.667,
            1524917468442.01,
            41819468691.8251,
            141209864408.488
           ],
           "xaxis": "x",
           "y": [
            2913021,
            9483836,
            3811088,
            7395599,
            2097555,
            3097282,
            619428,
            2055004,
            38042794,
            2862354,
            20246871,
            142849468,
            7291436,
            45870741
           ],
           "yaxis": "y"
          }
         ],
         "name": "2010"
        },
        {
         "data": [
          {
           "hovertemplate": "<b>%{hovertext}</b><br><br>Income level=High Income<br>Year=2011<br>GDP=%{x}<br>Population=%{y}<br>Refugees under UNHCR's mandate=%{marker.size}<extra></extra>",
           "hovertext": [
            "Austria",
            "Belgium",
            "Croatia",
            "Czechia",
            "Denmark",
            "Estonia",
            "Finland",
            "France",
            "Germany",
            "Greece",
            "Hungary",
            "Iceland",
            "Ireland",
            "Italy",
            "Latvia",
            "Liechtenstein",
            "Lithuania",
            "Malta",
            "Netherlands",
            "Norway",
            "Poland",
            "Portugal",
            "Russian Federation",
            "Slovakia",
            "Slovenia",
            "Spain",
            "Sweden",
            "Switzerland",
            "United Kingdom of Great Britain and Northern Ireland"
           ],
           "ids": [
            "Austria",
            "Belgium",
            "Croatia",
            "Czechia",
            "Denmark",
            "Estonia",
            "Finland",
            "France",
            "Germany",
            "Greece",
            "Hungary",
            "Iceland",
            "Ireland",
            "Italy",
            "Latvia",
            "Liechtenstein",
            "Lithuania",
            "Malta",
            "Netherlands",
            "Norway",
            "Poland",
            "Portugal",
            "Russian Federation",
            "Slovakia",
            "Slovenia",
            "Spain",
            "Sweden",
            "Switzerland",
            "United Kingdom of Great Britain and Northern Ireland"
           ],
           "legendgroup": "High Income",
           "marker": {
            "color": "#636efa",
            "size": [
             46740,
             15336,
             818,
             2416,
             12983,
             34,
             9083,
             167548,
             558738,
             1454,
             4897,
             55,
             8194,
             55108,
             88,
             88,
             824,
             6335,
             70922,
             40612,
             15834,
             375,
             3895,
             535,
             134,
             4155,
             85894,
             49931,
             146240
            ],
            "sizemode": "area",
            "sizeref": 338.3311111111111,
            "symbol": "circle"
           },
           "mode": "markers",
           "name": "High Income",
           "orientation": "v",
           "showlegend": true,
           "type": "scatter",
           "x": [
            431685217367.511,
            523330354138.133,
            63408294943.4855,
            229562733398.948,
            344003137611.271,
            23213994093.4631,
            275604356167.316,
            2865157541994.17,
            3749314991050.59,
            282995942006.557,
            141942264554.475,
            15221622925.9319,
            239003132208.133,
            2294994296589.5,
            27474380566.265,
            5739977477.47748,
            43535051482.3869,
            9638919821.82628,
            905270626332.687,
            498283438454.281,
            524382678547.32,
            245117990242.248,
            2045925608274.37,
            99922685424.8835,
            51583869785.1849,
            1480710495710.12,
            574094112972.733,
            715888126682.396,
            2666403005061.42
           ],
           "xaxis": "x",
           "y": [
            8391643,
            11038264,
            4280622,
            10496088,
            5570572,
            1327439,
            5388272,
            65345233,
            80274983,
            11104899,
            9971727,
            319014,
            4580084,
            59379449,
            2059709,
            36189,
            3028115,
            416268,
            16693074,
            4953088,
            38063255,
            10557560,
            142960908,
            5398384,
            2052843,
            46742697,
            9449213,
            7912398,
            63258810
           ],
           "yaxis": "y"
          },
          {
           "hovertemplate": "<b>%{hovertext}</b><br><br>Income level=Middle Income<br>Year=2011<br>GDP=%{x}<br>Population=%{y}<br>Refugees under UNHCR's mandate=%{marker.size}<extra></extra>",
           "hovertext": [
            "Albania",
            "Belarus",
            "Bosnia and Herzegovina",
            "Bulgaria",
            "Montenegro",
            "North Macedonia",
            "Rep. of Moldova",
            "Romania",
            "Serbia and Kosovo: S/RES/1244 (1999)",
            "Ukraine"
           ],
           "ids": [
            "Albania",
            "Belarus",
            "Bosnia and Herzegovina",
            "Bulgaria",
            "Montenegro",
            "North Macedonia",
            "Rep. of Moldova",
            "Romania",
            "Serbia and Kosovo: S/RES/1244 (1999)",
            "Ukraine"
           ],
           "legendgroup": "Middle Income",
           "marker": {
            "color": "#EF553B",
            "size": [
             79,
             594,
             6932,
             5676,
             12871,
             1129,
             131,
             1003,
             70702,
             3168
            ],
            "sizemode": "area",
            "sizeref": 338.3311111111111,
            "symbol": "circle"
           },
           "mode": "markers",
           "name": "Middle Income",
           "orientation": "v",
           "showlegend": true,
           "type": "scatter",
           "x": [
            12890764531.3284,
            61757788944.7236,
            18644723860.9709,
            57678241023.818,
            4544516982.18263,
            10494632699.3859,
            8414351671.95869,
            192614085153.841,
            49258136128.9672,
            169333048847.834
           ],
           "xaxis": "x",
           "y": [
            2905195,
            9461643,
            3743142,
            7348328,
            620079,
            2058539,
            2860699,
            20147528,
            7234099,
            45706086
           ],
           "yaxis": "y"
          }
         ],
         "name": "2011"
        },
        {
         "data": [
          {
           "hovertemplate": "<b>%{hovertext}</b><br><br>Income level=High Income<br>Year=2012<br>GDP=%{x}<br>Population=%{y}<br>Refugees under UNHCR's mandate=%{marker.size}<extra></extra>",
           "hovertext": [
            "Austria",
            "Belgium",
            "Croatia",
            "Czechia",
            "Denmark",
            "Estonia",
            "Finland",
            "France",
            "Germany",
            "Greece",
            "Iceland",
            "Ireland",
            "Italy",
            "Latvia",
            "Liechtenstein",
            "Lithuania",
            "Malta",
            "Netherlands",
            "Norway",
            "Poland",
            "Portugal",
            "Russian Federation",
            "Slovakia",
            "Slovenia",
            "Spain",
            "Sweden",
            "Switzerland",
            "United Kingdom of Great Britain and Northern Ireland"
           ],
           "ids": [
            "Austria",
            "Belgium",
            "Croatia",
            "Czechia",
            "Denmark",
            "Estonia",
            "Finland",
            "France",
            "Germany",
            "Greece",
            "Iceland",
            "Ireland",
            "Italy",
            "Latvia",
            "Liechtenstein",
            "Lithuania",
            "Malta",
            "Netherlands",
            "Norway",
            "Poland",
            "Portugal",
            "Russian Federation",
            "Slovakia",
            "Slovenia",
            "Spain",
            "Sweden",
            "Switzerland",
            "United Kingdom of Great Britain and Northern Ireland"
           ],
           "legendgroup": "High Income",
           "marker": {
            "color": "#636efa",
            "size": [
             51385,
             16697,
             722,
             2772,
             11400,
             48,
             9815,
             175576,
             576397,
             1974,
             55,
             6309,
             61893,
             113,
             103,
             871,
             7629,
             68228,
             42746,
             15897,
             449,
             3126,
             650,
             169,
             4407,
             92119,
             50259,
             115538
            ],
            "sizemode": "area",
            "sizeref": 338.3311111111111,
            "symbol": "circle"
           },
           "mode": "markers",
           "name": "High Income",
           "orientation": "v",
           "showlegend": true,
           "type": "scatter",
           "x": [
            409401816050.531,
            496152879924.727,
            57369359295.2829,
            208857719320.649,
            327148943812.137,
            23019150071.1867,
            258290060227.734,
            2683671716967.19,
            3527143188785.16,
            242029307133.408,
            14751508133.5443,
            225628699652.993,
            2086957656821.6,
            28169902669.3784,
            5456009384.66461,
            42927454291.478,
            9462289605.55056,
            838923319919.531,
            509506317146.541,
            495236910793.797,
            216224240577.957,
            2208295773643.15,
            94623731085.6106,
            46577793184.0031,
            1324750738725,
            552483727282.802,
            686420221557.99,
            2706340967030.68
           ],
           "xaxis": "x",
           "y": [
            8429991,
            11106932,
            4267558,
            10510785,
            5591572,
            1322696,
            5413971,
            65662240,
            80425823,
            11045011,
            320716,
            4599533,
            59539717,
            2034319,
            36505,
            2987773,
            420028,
            16754962,
            5018573,
            38063164,
            10514844,
            143201721,
            5407579,
            2057159,
            46773055,
            9519374,
            7996861,
            63700215
           ],
           "yaxis": "y"
          },
          {
           "hovertemplate": "<b>%{hovertext}</b><br><br>Income level=Middle Income<br>Year=2012<br>GDP=%{x}<br>Population=%{y}<br>Refugees under UNHCR's mandate=%{marker.size}<extra></extra>",
           "hovertext": [
            "Albania",
            "Belarus",
            "Bosnia and Herzegovina",
            "Bulgaria",
            "Hungary",
            "Montenegro",
            "North Macedonia",
            "Rep. of Moldova",
            "Romania",
            "Serbia and Kosovo: S/RES/1244 (1999)",
            "Ukraine"
           ],
           "ids": [
            "Albania",
            "Belarus",
            "Bosnia and Herzegovina",
            "Bulgaria",
            "Hungary",
            "Montenegro",
            "North Macedonia",
            "Rep. of Moldova",
            "Romania",
            "Serbia and Kosovo: S/RES/1244 (1999)",
            "Ukraine"
           ],
           "legendgroup": "Middle Income",
           "marker": {
            "color": "#EF553B",
            "size": [
             84,
             572,
             6904,
             2273,
             3819,
             11193,
             1076,
             176,
             1263,
             66367,
             2790
            ],
            "sizemode": "area",
            "sizeref": 338.3311111111111,
            "symbol": "circle"
           },
           "mode": "markers",
           "name": "Middle Income",
           "orientation": "v",
           "showlegend": true,
           "type": "scatter",
           "x": [
            12319830437.3467,
            65685102554.8759,
            17226849165.6813,
            54300857424.4415,
            128814279315.132,
            4087725812.66864,
            9745251126.0109,
            8709138764.75916,
            179132893143.417,
            43309252921.0567,
            182592416468.527
           ],
           "xaxis": "x",
           "y": [
            2900401,
            9446836,
            3674374,
            7305888,
            9920362,
            620601,
            2061044,
            2860324,
            20058035,
            7199077,
            45593342
           ],
           "yaxis": "y"
          }
         ],
         "name": "2012"
        },
        {
         "data": [
          {
           "hovertemplate": "<b>%{hovertext}</b><br><br>Income level=High Income<br>Year=2013<br>GDP=%{x}<br>Population=%{y}<br>Refugees under UNHCR's mandate=%{marker.size}<extra></extra>",
           "hovertext": [
            "Austria",
            "Belgium",
            "Croatia",
            "Czechia",
            "Denmark",
            "Estonia",
            "Finland",
            "France",
            "Germany",
            "Greece",
            "Hungary",
            "Iceland",
            "Ireland",
            "Italy",
            "Latvia",
            "Liechtenstein",
            "Lithuania",
            "Luxembourg",
            "Malta",
            "Netherlands",
            "Norway",
            "Poland",
            "Portugal",
            "Russian Federation",
            "Slovakia",
            "Slovenia",
            "Spain",
            "Sweden",
            "Switzerland",
            "United Kingdom of Great Britain and Northern Ireland"
           ],
           "ids": [
            "Austria",
            "Belgium",
            "Croatia",
            "Czechia",
            "Denmark",
            "Estonia",
            "Finland",
            "France",
            "Germany",
            "Greece",
            "Hungary",
            "Iceland",
            "Ireland",
            "Italy",
            "Latvia",
            "Liechtenstein",
            "Lithuania",
            "Luxembourg",
            "Malta",
            "Netherlands",
            "Norway",
            "Poland",
            "Portugal",
            "Russian Federation",
            "Slovakia",
            "Slovenia",
            "Spain",
            "Sweden",
            "Switzerland",
            "United Kingdom of Great Britain and Northern Ireland"
           ],
           "legendgroup": "High Income",
           "marker": {
            "color": "#636efa",
            "size": [
             55254,
             23182,
             679,
             2966,
             12758,
             52,
             11128,
             184811,
             183022,
             3336,
             2294,
             72,
             5991,
             75391,
             149,
             96,
             918,
             896,
             9285,
             71142,
             46029,
             16428,
             572,
             3417,
             691,
             202,
             4555,
             113324,
             51823,
             100419
            ],
            "sizemode": "area",
            "sizeref": 338.3311111111111,
            "symbol": "circle"
           },
           "mode": "markers",
           "name": "High Income",
           "orientation": "v",
           "showlegend": true,
           "type": "scatter",
           "x": [
            430190979705.962,
            521791015247.06,
            59032066091.7147,
            211685616592.931,
            343584391647.927,
            25115753366.1114,
            271362405890.589,
            2811876903329.03,
            3733804649549.03,
            238907690051.13,
            135684315697.713,
            16125060515.3117,
            238340859896.937,
            2141924094298.56,
            30204783461.8488,
            6391735893.83968,
            46523420074.4372,
            65203276466.9763,
            10551600478.1511,
            877172824534.512,
            522761531914.894,
            515764728216.161,
            226433858005.714,
            2292473246621.08,
            98935222174.8603,
            48415657264.8758,
            1355579535912.55,
            586841821796.891,
            706234937370.968,
            2786315215249.95
           ],
           "xaxis": "x",
           "y": [
            8479823,
            11159407,
            4255689,
            10514272,
            5614932,
            1317997,
            5438972,
            66002289,
            80645605,
            10965211,
            9893082,
            323764,
            4623816,
            60233948,
            2012647,
            36806,
            2957689,
            543360,
            425967,
            16804432,
            5079623,
            38040196,
            10457295,
            143506995,
            5413393,
            2059953,
            46620045,
            9600379,
            8089346,
            64128273
           ],
           "yaxis": "y"
          },
          {
           "hovertemplate": "<b>%{hovertext}</b><br><br>Income level=Middle Income<br>Year=2013<br>GDP=%{x}<br>Population=%{y}<br>Refugees under UNHCR's mandate=%{marker.size}<extra></extra>",
           "hovertext": [
            "Albania",
            "Belarus",
            "Bosnia and Herzegovina",
            "Bulgaria",
            "Montenegro",
            "North Macedonia",
            "Rep. of Moldova",
            "Romania",
            "Serbia and Kosovo: S/RES/1244 (1999)",
            "Ukraine"
           ],
           "ids": [
            "Albania",
            "Belarus",
            "Bosnia and Herzegovina",
            "Bulgaria",
            "Montenegro",
            "North Macedonia",
            "Rep. of Moldova",
            "Romania",
            "Serbia and Kosovo: S/RES/1244 (1999)",
            "Ukraine"
           ],
           "legendgroup": "Middle Income",
           "marker": {
            "color": "#EF553B",
            "size": [
             96,
             599,
             6924,
             4305,
             8471,
             980,
             237,
             1747,
             57079,
             2956
            ],
            "sizemode": "area",
            "sizeref": 338.3311111111111,
            "symbol": "circle"
           },
           "mode": "markers",
           "name": "Middle Income",
           "orientation": "v",
           "showlegend": true,
           "type": "scatter",
           "x": [
            12776220507.0162,
            75527984234.2342,
            18178503835.4491,
            55810138436.4821,
            4466039314.65002,
            10817712138.9451,
            9496717702.44839,
            189790228071.757,
            48394239474.6762,
            190498811460.028
           ],
           "xaxis": "x",
           "y": [
            2895092,
            9443211,
            3617559,
            7265115,
            621207,
            2064032,
            2859558,
            19983693,
            7164132,
            45489648
           ],
           "yaxis": "y"
          }
         ],
         "name": "2013"
        },
        {
         "data": [
          {
           "hovertemplate": "<b>%{hovertext}</b><br><br>Income level=High Income<br>Year=2014<br>GDP=%{x}<br>Population=%{y}<br>Refugees under UNHCR's mandate=%{marker.size}<extra></extra>",
           "hovertext": [
            "Austria",
            "Belgium",
            "Croatia",
            "Czechia",
            "Denmark",
            "Estonia",
            "Finland",
            "France",
            "Germany",
            "Greece",
            "Hungary",
            "Iceland",
            "Ireland",
            "Italy",
            "Latvia",
            "Liechtenstein",
            "Lithuania",
            "Luxembourg",
            "Malta",
            "Netherlands",
            "Norway",
            "Poland",
            "Portugal",
            "Russian Federation",
            "Slovakia",
            "Slovenia",
            "Spain",
            "Sweden",
            "Switzerland",
            "United Kingdom of Great Britain and Northern Ireland"
           ],
           "ids": [
            "Austria",
            "Belgium",
            "Croatia",
            "Czechia",
            "Denmark",
            "Estonia",
            "Finland",
            "France",
            "Germany",
            "Greece",
            "Hungary",
            "Iceland",
            "Ireland",
            "Italy",
            "Latvia",
            "Liechtenstein",
            "Lithuania",
            "Luxembourg",
            "Malta",
            "Netherlands",
            "Norway",
            "Poland",
            "Portugal",
            "Russian Federation",
            "Slovakia",
            "Slovenia",
            "Spain",
            "Sweden",
            "Switzerland",
            "United Kingdom of Great Britain and Northern Ireland"
           ],
           "legendgroup": "High Income",
           "marker": {
            "color": "#636efa",
            "size": [
             60449,
             26161,
             724,
             3065,
             17378,
             82,
             11654,
             192248,
             212430,
             10156,
             2689,
             93,
             5832,
             92730,
             168,
             102,
             1007,
             1086,
             5480,
             79144,
             46967,
             15730,
             680,
             235727,
             791,
             251,
             5711,
             141331,
             62031,
             97205
            ],
            "sizemode": "area",
            "sizeref": 338.3311111111111,
            "symbol": "circle"
           },
           "mode": "markers",
           "name": "High Income",
           "orientation": "v",
           "showlegend": true,
           "type": "scatter",
           "x": [
            442584815286.034,
            535390200131.018,
            58423981441.1801,
            209358834156.329,
            352993631617.708,
            26634083965.0987,
            274862826772.156,
            2855964488590.19,
            3889093051023.52,
            235458133124.608,
            141033843265.669,
            17867662177.8911,
            259170903647.536,
            2162009615996.54,
            31386896487.0407,
            6657170923.37918,
            48533659592.1728,
            68804811897.6445,
            11626278729.9057,
            892167986713.722,
            498410050251.256,
            539087652559.835,
            229901964221.884,
            2059241965490.83,
            101437045019.901,
            49997186439.0916,
            1371820537888.62,
            581964017237.095,
            726537808338,
            3065223279583.79
           ],
           "xaxis": "x",
           "y": [
            8546356,
            11209057,
            4238389,
            10525347,
            5643475,
            1314545,
            5461512,
            66312067,
            80982500,
            10892413,
            9866468,
            327386,
            4657740,
            60789140,
            1993782,
            37096,
            2932367,
            556319,
            434558,
            16865008,
            5137232,
            38011735,
            10401062,
            143819667,
            5418649,
            2061980,
            46480882,
            9696110,
            8188649,
            64602298
           ],
           "yaxis": "y"
          },
          {
           "hovertemplate": "<b>%{hovertext}</b><br><br>Income level=Middle Income<br>Year=2014<br>GDP=%{x}<br>Population=%{y}<br>Refugees under UNHCR's mandate=%{marker.size}<extra></extra>",
           "hovertext": [
            "Albania",
            "Belarus",
            "Bosnia and Herzegovina",
            "Bulgaria",
            "Montenegro",
            "North Macedonia",
            "Rep. of Moldova",
            "Romania",
            "Serbia and Kosovo: S/RES/1244 (1999)",
            "Ukraine"
           ],
           "ids": [
            "Albania",
            "Belarus",
            "Bosnia and Herzegovina",
            "Bulgaria",
            "Montenegro",
            "North Macedonia",
            "Rep. of Moldova",
            "Romania",
            "Serbia and Kosovo: S/RES/1244 (1999)",
            "Ukraine"
           ],
           "legendgroup": "Middle Income",
           "marker": {
            "color": "#EF553B",
            "size": [
             111,
             919,
             6883,
             11026,
             6455,
             880,
             323,
             2171,
             43749,
             3206
            ],
            "sizemode": "area",
            "sizeref": 338.3311111111111,
            "symbol": "circle"
           },
           "mode": "markers",
           "name": "Middle Income",
           "orientation": "v",
           "showlegend": true,
           "type": "scatter",
           "x": [
            13228147516.1168,
            78813839984.3506,
            18558343304.8433,
            57082011260.3446,
            4594024179.62003,
            11362272837.8818,
            9510198961.57287,
            199712289501.971,
            47062206677.6539,
            133503411375.739
           ],
           "xaxis": "x",
           "y": [
            2889104,
            9448515,
            3571068,
            7223938,
            621810,
            2067471,
            2857815,
            19908979,
            7130576,
            45272155
           ],
           "yaxis": "y"
          }
         ],
         "name": "2014"
        },
        {
         "data": [
          {
           "hovertemplate": "<b>%{hovertext}</b><br><br>Income level=High Income<br>Year=2015<br>GDP=%{x}<br>Population=%{y}<br>Refugees under UNHCR's mandate=%{marker.size}<extra></extra>",
           "hovertext": [
            "Austria",
            "Belgium",
            "Czechia",
            "Denmark",
            "Estonia",
            "Finland",
            "France",
            "Germany",
            "Greece",
            "Iceland",
            "Ireland",
            "Italy",
            "Latvia",
            "Liechtenstein",
            "Lithuania",
            "Luxembourg",
            "Malta",
            "Netherlands",
            "Norway",
            "Portugal",
            "Slovakia",
            "Slovenia",
            "Spain",
            "Sweden",
            "Switzerland",
            "United Kingdom of Great Britain and Northern Ireland"
           ],
           "ids": [
            "Austria",
            "Belgium",
            "Czechia",
            "Denmark",
            "Estonia",
            "Finland",
            "France",
            "Germany",
            "Greece",
            "Iceland",
            "Ireland",
            "Italy",
            "Latvia",
            "Liechtenstein",
            "Lithuania",
            "Luxembourg",
            "Malta",
            "Netherlands",
            "Norway",
            "Portugal",
            "Slovakia",
            "Slovenia",
            "Spain",
            "Sweden",
            "Switzerland",
            "United Kingdom of Great Britain and Northern Ireland"
           ],
           "legendgroup": "High Income",
           "marker": {
            "color": "#636efa",
            "size": [
             72020,
             26957,
             3531,
             26927,
             158,
             12562,
             204674,
             307009,
             23292,
             170,
             6108,
             116824,
             193,
             146,
             1094,
             1306,
             6453,
             85906,
             50326,
             851,
             816,
             284,
             6361,
             168612,
             72153,
             103320
            ],
            "sizemode": "area",
            "sizeref": 338.3311111111111,
            "symbol": "circle"
           },
           "mode": "markers",
           "name": "High Income",
           "orientation": "v",
           "showlegend": true,
           "type": "scatter",
           "x": [
            381971148530.543,
            462335574841.484,
            188033050459.881,
            302673070846.857,
            22890762090.1508,
            234534382384.766,
            2439188643162.5,
            3357585719351.56,
            195683527003.375,
            17517210519.0912,
            291775166506.891,
            1836637711060.55,
            27263090547.0617,
            6268391521.19701,
            41435533340.3883,
            60071584216.1375,
            11091423499.3898,
            765572770634.375,
            385801550067.169,
            199394066525.44,
            88900883130.8374,
            43107506024.3254,
            1196156971279.69,
            505103781349.757,
            694118186379.628,
            2934857946213.47
           ],
           "xaxis": "x",
           "y": [
            8642699,
            11274196,
            10546059,
            5683483,
            1315407,
            5479531,
            66548272,
            81686611,
            10820883,
            330815,
            4701957,
            60730582,
            1977527,
            37355,
            2904910,
            569604,
            445053,
            16939923,
            5188607,
            10358076,
            5423801,
            2063531,
            46444832,
            9799186,
            8282396,
            65116219
           ],
           "yaxis": "y"
          },
          {
           "hovertemplate": "<b>%{hovertext}</b><br><br>Income level=Middle Income<br>Year=2015<br>GDP=%{x}<br>Population=%{y}<br>Refugees under UNHCR's mandate=%{marker.size}<extra></extra>",
           "hovertext": [
            "Albania",
            "Belarus",
            "Bosnia and Herzegovina",
            "Bulgaria",
            "Croatia",
            "Hungary",
            "Montenegro",
            "North Macedonia",
            "Poland",
            "Rep. of Moldova",
            "Romania",
            "Russian Federation",
            "Serbia and Kosovo: S/RES/1244 (1999)",
            "Ukraine"
           ],
           "ids": [
            "Albania",
            "Belarus",
            "Bosnia and Herzegovina",
            "Bulgaria",
            "Croatia",
            "Hungary",
            "Montenegro",
            "North Macedonia",
            "Poland",
            "Rep. of Moldova",
            "Romania",
            "Russian Federation",
            "Serbia and Kosovo: S/RES/1244 (1999)",
            "Ukraine"
           ],
           "legendgroup": "Middle Income",
           "marker": {
            "color": "#EF553B",
            "size": [
             109,
             1805,
             6789,
             16543,
             517,
             3518,
             1762,
             697,
             14057,
             434,
             2581,
             314486,
             35326,
             3261
            ],
            "sizemode": "area",
            "sizeref": 338.3311111111111,
            "symbol": "circle"
           },
           "mode": "markers",
           "name": "Middle Income",
           "orientation": "v",
           "showlegend": true,
           "type": "scatter",
           "x": [
            11386850129.8411,
            56454734396.5842,
            16211541593.4222,
            50781996712.7635,
            50242783066.1173,
            125174166987.372,
            4054712082.54743,
            10064515432.0265,
            477111287969.227,
            7745241912.94722,
            177882417554.984,
            1363481063446.77,
            39655958842.5478,
            91030959454.6961
           ],
           "xaxis": "x",
           "y": [
            2880703,
            9461076,
            3524324,
            7177991,
            4203604,
            9843028,
            622159,
            2070226,
            37986412,
            2835978,
            19815616,
            144096870,
            7095383,
            45154036
           ],
           "yaxis": "y"
          }
         ],
         "name": "2015"
        },
        {
         "data": [
          {
           "hovertemplate": "<b>%{hovertext}</b><br><br>Income level=High Income<br>Year=2016<br>GDP=%{x}<br>Population=%{y}<br>Refugees under UNHCR's mandate=%{marker.size}<extra></extra>",
           "hovertext": [
            "Austria",
            "Belgium",
            "Czechia",
            "Denmark",
            "Estonia",
            "Finland",
            "France",
            "Germany",
            "Greece",
            "Hungary",
            "Iceland",
            "Ireland",
            "Italy",
            "Latvia",
            "Liechtenstein",
            "Lithuania",
            "Luxembourg",
            "Malta",
            "Netherlands",
            "Norway",
            "Portugal",
            "Slovakia",
            "Slovenia",
            "Spain",
            "Sweden",
            "Switzerland",
            "United Kingdom of Great Britain and Northern Ireland"
           ],
           "ids": [
            "Austria",
            "Belgium",
            "Czechia",
            "Denmark",
            "Estonia",
            "Finland",
            "France",
            "Germany",
            "Greece",
            "Hungary",
            "Iceland",
            "Ireland",
            "Italy",
            "Latvia",
            "Liechtenstein",
            "Lithuania",
            "Luxembourg",
            "Malta",
            "Netherlands",
            "Norway",
            "Portugal",
            "Slovakia",
            "Slovenia",
            "Spain",
            "Sweden",
            "Switzerland",
            "United Kingdom of Great Britain and Northern Ireland"
           ],
           "legendgroup": "High Income",
           "marker": {
            "color": "#636efa",
            "size": [
             91309,
             34655,
             3531,
             33471,
             312,
             18250,
             226866,
             648558,
             39345,
             3839,
             233,
             5720,
             146111,
             340,
             161,
             1284,
             2020,
             7326,
             99270,
             59466,
             1189,
             980,
             454,
             12896,
             229527,
             81273,
             112198
            ],
            "sizemode": "area",
            "sizeref": 338.3311111111111,
            "symbol": "circle"
           },
           "mode": "markers",
           "name": "High Income",
           "orientation": "v",
           "showlegend": true,
           "type": "scatter",
           "x": [
            395837353031.499,
            476062757356.927,
            196272068576.338,
            313115929314.339,
            24072829276.7744,
            240771351298.833,
            2472964344587.17,
            3469853463945.53,
            193148146586.933,
            128609822750.039,
            20793168030.9524,
            299091127524.505,
            1877071687633.78,
            28083597512.4841,
            6237264055.20601,
            43047309305.7363,
            62216885435.9488,
            11668253265.4417,
            784060430240.08,
            368827142857.143,
            206426152308.931,
            89952699524.894,
            44766722790.5826,
            1233554967011.68,
            515654671469.547,
            687895460902.713,
            2699659680997.2
           ],
           "xaxis": "x",
           "y": [
            8736668,
            11331422,
            10566332,
            5728010,
            1315790,
            5495303,
            66724104,
            82348669,
            10775971,
            9814023,
            335439,
            4755335,
            60627498,
            1959537,
            37609,
            2868231,
            582014,
            455356,
            17030314,
            5234519,
            10325452,
            5430798,
            2065042,
            46484062,
            9923085,
            8373338,
            65611593
           ],
           "yaxis": "y"
          },
          {
           "hovertemplate": "<b>%{hovertext}</b><br><br>Income level=Middle Income<br>Year=2016<br>GDP=%{x}<br>Population=%{y}<br>Refugees under UNHCR's mandate=%{marker.size}<extra></extra>",
           "hovertext": [
            "Albania",
            "Belarus",
            "Bosnia and Herzegovina",
            "Bulgaria",
            "Croatia",
            "Montenegro",
            "North Macedonia",
            "Poland",
            "Rep. of Moldova",
            "Romania",
            "Russian Federation",
            "Serbia and Kosovo: S/RES/1244 (1999)",
            "Ukraine"
           ],
           "ids": [
            "Albania",
            "Belarus",
            "Bosnia and Herzegovina",
            "Bulgaria",
            "Croatia",
            "Montenegro",
            "North Macedonia",
            "Poland",
            "Rep. of Moldova",
            "Romania",
            "Russian Federation",
            "Serbia and Kosovo: S/RES/1244 (1999)",
            "Ukraine"
           ],
           "legendgroup": "Middle Income",
           "marker": {
            "color": "#EF553B",
            "size": [
             141,
             1647,
             5266,
             17794,
             300,
             970,
             634,
             11738,
             419,
             2880,
             228976,
             35367,
             3292
            ],
            "sizemode": "area",
            "sizeref": 338.3311111111111,
            "symbol": "circle"
           },
           "mode": "markers",
           "name": "Middle Income",
           "orientation": "v",
           "showlegend": true,
           "type": "scatter",
           "x": [
            11861199830.8396,
            47722657820.6675,
            16913330976.7547,
            53953897624.4344,
            52397494687.4863,
            4377033429.26721,
            10672471860.7184,
            470022572790.91,
            8071469355.2527,
            185286854552.621,
            1276786979221.81,
            40692643373.0327,
            93355993628.5042
           ],
           "xaxis": "x",
           "y": [
            2876101,
            9469379,
            3480986,
            7127822,
            4174349,
            622303,
            2072490,
            37970087,
            2803186,
            19702267,
            144342397,
            7058322,
            45004673
           ],
           "yaxis": "y"
          }
         ],
         "name": "2016"
        },
        {
         "data": [
          {
           "hovertemplate": "<b>%{hovertext}</b><br><br>Income level=High Income<br>Year=2017<br>GDP=%{x}<br>Population=%{y}<br>Refugees under UNHCR's mandate=%{marker.size}<extra></extra>",
           "hovertext": [
            "Austria",
            "Belgium",
            "Croatia",
            "Czechia",
            "Denmark",
            "Estonia",
            "Finland",
            "France",
            "Germany",
            "Greece",
            "Hungary",
            "Iceland",
            "Ireland",
            "Italy",
            "Latvia",
            "Liechtenstein",
            "Lithuania",
            "Luxembourg",
            "Malta",
            "Netherlands",
            "Norway",
            "Poland",
            "Portugal",
            "Slovakia",
            "Slovenia",
            "Spain",
            "Sweden",
            "Switzerland",
            "United Kingdom of Great Britain and Northern Ireland"
           ],
           "ids": [
            "Austria",
            "Belgium",
            "Croatia",
            "Czechia",
            "Denmark",
            "Estonia",
            "Finland",
            "France",
            "Germany",
            "Greece",
            "Hungary",
            "Iceland",
            "Ireland",
            "Italy",
            "Latvia",
            "Liechtenstein",
            "Lithuania",
            "Luxembourg",
            "Malta",
            "Netherlands",
            "Norway",
            "Poland",
            "Portugal",
            "Slovakia",
            "Slovenia",
            "Spain",
            "Sweden",
            "Switzerland",
            "United Kingdom of Great Britain and Northern Ireland"
           ],
           "legendgroup": "High Income",
           "marker": {
            "color": "#636efa",
            "size": [
             111944,
             34655,
             508,
             3531,
             35638,
             405,
             20629,
             250777,
             942079,
             30784,
             4746,
             349,
             6394,
             165977,
             653,
             164,
             1577,
             2020,
             7379,
             100993,
             59184,
             12225,
             1619,
             912,
             611,
             17473,
             240332,
             91503,
             115695
            ],
            "sizemode": "area",
            "sizeref": 338.3311111111111,
            "symbol": "circle"
           },
           "mode": "markers",
           "name": "High Income",
           "orientation": "v",
           "showlegend": true,
           "type": "scatter",
           "x": [
            417261151844.977,
            502764720556.354,
            56323836169.7177,
            218628940951.675,
            332121063806.391,
            26924385103.0659,
            255647979916.471,
            2595151045197.65,
            3690849152517.65,
            199844406013.531,
            143112196040.326,
            24728285177.4603,
            336377500160.546,
            1961796197354.36,
            30483806017.8318,
            6474256118.61481,
            47758736931.7801,
            65712180342.9836,
            13489380930.8631,
            833869641687.06,
            398393955268.99,
            524645833884.582,
            221357874718.93,
            95649966260.9802,
            48589100043.0954,
            1313245330197.65,
            541018749769.097,
            695200833086.499,
            2683399006715.79
           ],
           "xaxis": "x",
           "y": [
            8797566,
            11375158,
            4124531,
            10594438,
            5764980,
            1317384,
            5508214,
            66918020,
            82657002,
            10754679,
            9787966,
            343400,
            4807388,
            60536709,
            1942248,
            37889,
            2828403,
            596336,
            467999,
            17131296,
            5276968,
            37974826,
            10300300,
            5439232,
            2066388,
            46593236,
            10057698,
            8451840,
            66058859
           ],
           "yaxis": "y"
          },
          {
           "hovertemplate": "<b>%{hovertext}</b><br><br>Income level=Middle Income<br>Year=2017<br>GDP=%{x}<br>Population=%{y}<br>Refugees under UNHCR's mandate=%{marker.size}<extra></extra>",
           "hovertext": [
            "Albania",
            "Belarus",
            "Bosnia and Herzegovina",
            "Bulgaria",
            "Montenegro",
            "North Macedonia",
            "Rep. of Moldova",
            "Romania",
            "Russian Federation",
            "Serbia and Kosovo: S/RES/1244 (1999)",
            "Ukraine"
           ],
           "ids": [
            "Albania",
            "Belarus",
            "Bosnia and Herzegovina",
            "Bulgaria",
            "Montenegro",
            "North Macedonia",
            "Rep. of Moldova",
            "Romania",
            "Russian Federation",
            "Serbia and Kosovo: S/RES/1244 (1999)",
            "Ukraine"
           ],
           "legendgroup": "Middle Income",
           "marker": {
            "color": "#EF553B",
            "size": [
             124,
             2155,
             5224,
             19166,
             794,
             414,
             391,
             3911,
             126021,
             31019,
             3241
            ],
            "sizemode": "area",
            "sizeref": 338.3311111111111,
            "symbol": "circle"
           },
           "mode": "markers",
           "name": "Middle Income",
           "orientation": "v",
           "showlegend": true,
           "type": "scatter",
           "x": [
            13019689336.6919,
            54726595249.1849,
            18080118186.009,
            59199447421.4924,
            4856632399.45775,
            11307058382.3435,
            9669741744.22001,
            210146748920.419,
            1574199387070.9,
            44179055279.8887,
            112090530368.543
           ],
           "xaxis": "x",
           "y": [
            2873457,
            9458989,
            3440027,
            7075947,
            622373,
            2074502,
            2755189,
            19588715,
            144496739,
            7020858,
            44831135
           ],
           "yaxis": "y"
          }
         ],
         "name": "2017"
        },
        {
         "data": [
          {
           "hovertemplate": "<b>%{hovertext}</b><br><br>Income level=High Income<br>Year=2018<br>GDP=%{x}<br>Population=%{y}<br>Refugees under UNHCR's mandate=%{marker.size}<extra></extra>",
           "hovertext": [
            "Austria",
            "Belgium",
            "Croatia",
            "Czechia",
            "Denmark",
            "Estonia",
            "Finland",
            "France",
            "Germany",
            "Greece",
            "Hungary",
            "Iceland",
            "Ireland",
            "Italy",
            "Latvia",
            "Liechtenstein",
            "Lithuania",
            "Luxembourg",
            "Malta",
            "Netherlands",
            "Norway",
            "Poland",
            "Portugal",
            "Slovakia",
            "Slovenia",
            "Spain",
            "Sweden",
            "Switzerland",
            "United Kingdom of Great Britain and Northern Ireland"
           ],
           "ids": [
            "Austria",
            "Belgium",
            "Croatia",
            "Czechia",
            "Denmark",
            "Estonia",
            "Finland",
            "France",
            "Germany",
            "Greece",
            "Hungary",
            "Iceland",
            "Ireland",
            "Italy",
            "Latvia",
            "Liechtenstein",
            "Lithuania",
            "Luxembourg",
            "Malta",
            "Netherlands",
            "Norway",
            "Poland",
            "Portugal",
            "Slovakia",
            "Slovenia",
            "Spain",
            "Sweden",
            "Switzerland",
            "United Kingdom of Great Britain and Northern Ireland"
           ],
           "legendgroup": "High Income",
           "marker": {
            "color": "#636efa",
            "size": [
             124772,
             34655,
             787,
             2186,
             36595,
             319,
             22128,
             277079,
             1032632,
             53241,
             5077,
             537,
             6012,
             187790,
             664,
             166,
             1731,
             2020,
             7964,
             98612,
             57004,
             12495,
             2130,
             938,
             746,
             20370,
             247606,
             102342,
             120533
            ],
            "sizemode": "area",
            "sizeref": 338.3311111111111,
            "symbol": "circle"
           },
           "mode": "markers",
           "name": "High Income",
           "orientation": "v",
           "showlegend": true,
           "type": "scatter",
           "x": [
            454991174096.102,
            543299066998.902,
            62316840749.9705,
            249000540729.179,
            356841216410.068,
            30624720196.229,
            275708001767.843,
            2790956878746.66,
            3974443355019.6,
            212049447242.111,
            160564628963.713,
            26264127686.6137,
            385736680797.118,
            2091932426266.98,
            34429023435.0211,
            6692504346.04765,
            53751411409.4447,
            71000359760.4611,
            15298771846.9532,
            914043438179.607,
            436999692591.454,
            588782567765.872,
            242313116577.967,
            106137924015.593,
            54177882425.8431,
            1421702715218.04,
            555455371487.089,
            725568717468.001,
            2878152147315.82
           ],
           "xaxis": "x",
           "y": [
            8840521,
            11427054,
            4087843,
            10629928,
            5793636,
            1321977,
            5515525,
            67158348,
            82905782,
            10732882,
            9775564,
            352721,
            4867316,
            60421760,
            1927174,
            38181,
            2801543,
            607950,
            484630,
            17231624,
            5311916,
            37974750,
            10283822,
            5446771,
            2073894,
            46797754,
            10175214,
            8514329,
            66460344
           ],
           "yaxis": "y"
          },
          {
           "hovertemplate": "<b>%{hovertext}</b><br><br>Income level=Middle Income<br>Year=2018<br>GDP=%{x}<br>Population=%{y}<br>Refugees under UNHCR's mandate=%{marker.size}<extra></extra>",
           "hovertext": [
            "Albania",
            "Belarus",
            "Bosnia and Herzegovina",
            "Bulgaria",
            "Montenegro",
            "North Macedonia",
            "Rep. of Moldova",
            "Romania",
            "Russian Federation",
            "Serbia and Kosovo: S/RES/1244 (1999)",
            "Ukraine"
           ],
           "ids": [
            "Albania",
            "Belarus",
            "Bosnia and Herzegovina",
            "Bulgaria",
            "Montenegro",
            "North Macedonia",
            "Rep. of Moldova",
            "Romania",
            "Russian Federation",
            "Serbia and Kosovo: S/RES/1244 (1999)",
            "Ukraine"
           ],
           "legendgroup": "Middle Income",
           "marker": {
            "color": "#EF553B",
            "size": [
             132,
             2225,
             5227,
             19906,
             727,
             413,
             409,
             4134,
             77382,
             30696,
             2606
            ],
            "sizemode": "area",
            "sizeref": 338.3311111111111,
            "symbol": "circle"
           },
           "mode": "markers",
           "name": "Middle Income",
           "orientation": "v",
           "showlegend": true,
           "type": "scatter",
           "x": [
            15156432309.8977,
            60031262269.3365,
            20183510863.0054,
            66363537115.2686,
            5506766650.92111,
            12683070061.4695,
            11457443185.0542,
            243317079358.636,
            1657329646183.62,
            50640650221.4622,
            130891049796.879
           ],
           "xaxis": "x",
           "y": [
            2866376,
            9438785,
            3400129,
            7025037,
            622227,
            2076217,
            2707203,
            19473970,
            144477859,
            6982604,
            44622518
           ],
           "yaxis": "y"
          }
         ],
         "name": "2018"
        },
        {
         "data": [
          {
           "hovertemplate": "<b>%{hovertext}</b><br><br>Income level=High Income<br>Year=2019<br>GDP=%{x}<br>Population=%{y}<br>Refugees under UNHCR's mandate=%{marker.size}<extra></extra>",
           "hovertext": [
            "Austria",
            "Belgium",
            "Croatia",
            "Czechia",
            "Denmark",
            "Estonia",
            "Finland",
            "France",
            "Germany",
            "Greece",
            "Hungary",
            "Iceland",
            "Ireland",
            "Italy",
            "Latvia",
            "Liechtenstein",
            "Lithuania",
            "Luxembourg",
            "Malta",
            "Netherlands",
            "Norway",
            "Poland",
            "Portugal",
            "Romania",
            "Slovakia",
            "Slovenia",
            "Spain",
            "Sweden",
            "Switzerland",
            "United Kingdom of Great Britain and Northern Ireland"
           ],
           "ids": [
            "Austria",
            "Belgium",
            "Croatia",
            "Czechia",
            "Denmark",
            "Estonia",
            "Finland",
            "France",
            "Germany",
            "Greece",
            "Hungary",
            "Iceland",
            "Ireland",
            "Italy",
            "Latvia",
            "Liechtenstein",
            "Lithuania",
            "Luxembourg",
            "Malta",
            "Netherlands",
            "Norway",
            "Poland",
            "Portugal",
            "Romania",
            "Slovakia",
            "Slovenia",
            "Spain",
            "Sweden",
            "Switzerland",
            "United Kingdom of Great Britain and Northern Ireland"
           ],
           "legendgroup": "High Income",
           "marker": {
            "color": "#636efa",
            "size": [
             131610,
             55579,
             916,
             2054,
             37505,
             331,
             23311,
             306847,
             1112285,
             69391,
             4833,
             882,
             7795,
             205972,
             665,
             125,
             1822,
             2533,
             8282,
             91570,
             53882,
             12658,
             2375,
             3860,
             965,
             741,
             57718,
             253201,
             108447,
             126806
            ],
            "sizemode": "area",
            "sizeref": 338.3311111111111,
            "symbol": "circle"
           },
           "mode": "markers",
           "name": "High Income",
           "orientation": "v",
           "showlegend": true,
           "type": "scatter",
           "x": [
            444621176100.548,
            535830876745.097,
            62327983579.5899,
            252548179964.897,
            346498737961.635,
            31081901909.2156,
            268514916972.549,
            2728870246705.88,
            3888226035921.56,
            205257014892.502,
            163988594921.902,
            24826102119.6357,
            399321701632.431,
            2011302198827.45,
            34343961072.8235,
            6427248943.44939,
            54751510087.7803,
            69825641851.0117,
            15725847979.4022,
            910194347568.626,
            404941363636.364,
            596054591863.312,
            239986922638.902,
            251019278416.197,
            105720354988.541,
            54331588482.3058,
            1394320055129.41,
            533879529188.454,
            721369112726.724,
            2857057847953.02
           ],
           "xaxis": "x",
           "y": [
            8879920,
            11488980,
            4065253,
            10671870,
            5814422,
            1326898,
            5521606,
            67388001,
            83092962,
            10721582,
            9771141,
            360563,
            4934340,
            59729081,
            1913822,
            38482,
            2794137,
            620001,
            504062,
            17344874,
            5347896,
            37965475,
            10286263,
            19371648,
            5454147,
            2088385,
            47134837,
            10278887,
            8575280,
            66836327
           ],
           "yaxis": "y"
          },
          {
           "hovertemplate": "<b>%{hovertext}</b><br><br>Income level=Middle Income<br>Year=2019<br>GDP=%{x}<br>Population=%{y}<br>Refugees under UNHCR's mandate=%{marker.size}<extra></extra>",
           "hovertext": [
            "Albania",
            "Belarus",
            "Bosnia and Herzegovina",
            "Bulgaria",
            "Montenegro",
            "North Macedonia",
            "Rep. of Moldova",
            "Russian Federation",
            "Serbia and Kosovo: S/RES/1244 (1999)",
            "Ukraine"
           ],
           "ids": [
            "Albania",
            "Belarus",
            "Bosnia and Herzegovina",
            "Bulgaria",
            "Montenegro",
            "North Macedonia",
            "Rep. of Moldova",
            "Russian Federation",
            "Serbia and Kosovo: S/RES/1244 (1999)",
            "Ukraine"
           ],
           "legendgroup": "Middle Income",
           "marker": {
            "color": "#EF553B",
            "size": [
             120,
             2725,
             5241,
             20438,
             653,
             354,
             417,
             42408,
             26427,
             2166
            ],
            "sizemode": "area",
            "sizeref": 338.3311111111111,
            "symbol": "circle"
           },
           "mode": "markers",
           "name": "Middle Income",
           "orientation": "v",
           "showlegend": true,
           "type": "scatter",
           "x": [
            15401830754.0773,
            64409647193.8044,
            20202479537.5193,
            68915875214.6537,
            5542053845.29274,
            12606338448.547,
            11971345002.7757,
            1693113904262.89,
            51514222381.8428,
            153882982016.281
           ],
           "xaxis": "x",
           "y": [
            2854191,
            9419758,
            3360711,
            6975761,
            622028,
            2076694,
            2664224,
            144406261,
            6945235,
            44386203
           ],
           "yaxis": "y"
          }
         ],
         "name": "2019"
        },
        {
         "data": [
          {
           "hovertemplate": "<b>%{hovertext}</b><br><br>Income level=High Income<br>Year=2020<br>GDP=%{x}<br>Population=%{y}<br>Refugees under UNHCR's mandate=%{marker.size}<extra></extra>",
           "hovertext": [
            "Austria",
            "Belgium",
            "Croatia",
            "Czechia",
            "Denmark",
            "Estonia",
            "Finland",
            "France",
            "Germany",
            "Greece",
            "Hungary",
            "Iceland",
            "Ireland",
            "Italy",
            "Latvia",
            "Liechtenstein",
            "Lithuania",
            "Luxembourg",
            "Malta",
            "Netherlands",
            "Norway",
            "Poland",
            "Portugal",
            "Romania",
            "Slovakia",
            "Slovenia",
            "Spain",
            "Sweden",
            "Switzerland",
            "United Kingdom of Great Britain and Northern Ireland"
           ],
           "ids": [
            "Austria",
            "Belgium",
            "Croatia",
            "Czechia",
            "Denmark",
            "Estonia",
            "Finland",
            "France",
            "Germany",
            "Greece",
            "Hungary",
            "Iceland",
            "Ireland",
            "Italy",
            "Latvia",
            "Liechtenstein",
            "Lithuania",
            "Luxembourg",
            "Malta",
            "Netherlands",
            "Norway",
            "Poland",
            "Portugal",
            "Romania",
            "Slovakia",
            "Slovenia",
            "Spain",
            "Sweden",
            "Switzerland",
            "United Kingdom of Great Britain and Northern Ireland"
           ],
           "legendgroup": "High Income",
           "marker": {
            "color": "#636efa",
            "size": [
             137238,
             58294,
             949,
             1919,
             36643,
             277,
             23295,
             335155,
             1175311,
             92038,
             4897,
             1448,
             9035,
             125742,
             637,
             129,
             1880,
             5158,
             8542,
             92953,
             49625,
             2771,
             2405,
             3581,
             1006,
             823,
             103592,
             247802,
             114074,
             130631
            ],
            "sizemode": "area",
            "sizeref": 338.3311111111111,
            "symbol": "circle"
           },
           "mode": "markers",
           "name": "High Income",
           "orientation": "v",
           "showlegend": true,
           "type": "scatter",
           "x": [
            435225238000.437,
            525211810652.608,
            57472012426.6853,
            245974558654.043,
            355222449505.211,
            31370395572.7658,
            271891788362.647,
            2639008701648.26,
            3889668895299.62,
            188925995936.807,
            157182045260.23,
            21694674809.9321,
            425852281928.121,
            1896755301518.14,
            34601740323.3386,
            6113951011.71459,
            56846622904.4391,
            73992591285.3029,
            14933066818.9606,
            909793466661.481,
            362198318435.26,
            599449188399.108,
            229031860520.777,
            251362040527.804,
            106696828625.55,
            53706800043.6842,
            1276962685648.25,
            547054174235.876,
            739913619797.445,
            2704609160088.15
           ],
           "xaxis": "x",
           "y": [
            8916864,
            11538604,
            4047680,
            10697858,
            5831404,
            1329522,
            5529543,
            67571107,
            83160871,
            10698599,
            9750149,
            366463,
            4985382,
            59438851,
            1900449,
            38756,
            2794885,
            630419,
            515332,
            17441500,
            5379475,
            37899070,
            10297081,
            19265250,
            5458827,
            2102419,
            47365655,
            10353442,
            8638167,
            67081000
           ],
           "yaxis": "y"
          },
          {
           "hovertemplate": "<b>%{hovertext}</b><br><br>Income level=Middle Income<br>Year=2020<br>GDP=%{x}<br>Population=%{y}<br>Refugees under UNHCR's mandate=%{marker.size}<extra></extra>",
           "hovertext": [
            "Albania",
            "Belarus",
            "Bosnia and Herzegovina",
            "Bulgaria",
            "Montenegro",
            "North Macedonia",
            "Rep. of Moldova",
            "Russian Federation",
            "Serbia and Kosovo: S/RES/1244 (1999)",
            "Ukraine"
           ],
           "ids": [
            "Albania",
            "Belarus",
            "Bosnia and Herzegovina",
            "Bulgaria",
            "Montenegro",
            "North Macedonia",
            "Rep. of Moldova",
            "Russian Federation",
            "Serbia and Kosovo: S/RES/1244 (1999)",
            "Ukraine"
           ],
           "legendgroup": "Middle Income",
           "marker": {
            "color": "#EF553B",
            "size": [
             105,
             2900,
             5232,
             21113,
             166,
             303,
             405,
             20260,
             26085,
             2249
            ],
            "sizemode": "area",
            "sizeref": 338.3311111111111,
            "symbol": "circle"
           },
           "mode": "markers",
           "name": "Middle Income",
           "orientation": "v",
           "showlegend": true,
           "type": "scatter",
           "x": [
            15131866270.5936,
            61371126414.1663,
            19950471170.6465,
            70240275010.1964,
            4769860740.74074,
            12363580534.6811,
            11859730543.5525,
            1489362488439.76,
            53356480453.8048,
            156617861448.576
           ],
           "xaxis": "x",
           "y": [
            2837849,
            9379952,
            3318407,
            6934015,
            621306,
            2072531,
            2635130,
            144073139,
            6899126,
            44132049
           ],
           "yaxis": "y"
          }
         ],
         "name": "2020"
        },
        {
         "data": [
          {
           "hovertemplate": "<b>%{hovertext}</b><br><br>Income level=High Income<br>Year=2021<br>GDP=%{x}<br>Population=%{y}<br>Refugees under UNHCR's mandate=%{marker.size}<extra></extra>",
           "hovertext": [
            "Austria",
            "Belgium",
            "Croatia",
            "Czechia",
            "Denmark",
            "Estonia",
            "Finland",
            "France",
            "Germany",
            "Greece",
            "Hungary",
            "Iceland",
            "Ireland",
            "Italy",
            "Latvia",
            "Liechtenstein",
            "Lithuania",
            "Luxembourg",
            "Malta",
            "Monaco",
            "Netherlands",
            "Norway",
            "Poland",
            "Portugal",
            "Romania",
            "Slovakia",
            "Slovenia",
            "Spain",
            "Sweden",
            "Switzerland",
            "United Kingdom of Great Britain and Northern Ireland"
           ],
           "ids": [
            "Austria",
            "Belgium",
            "Croatia",
            "Czechia",
            "Denmark",
            "Estonia",
            "Finland",
            "France",
            "Germany",
            "Greece",
            "Hungary",
            "Iceland",
            "Ireland",
            "Italy",
            "Latvia",
            "Liechtenstein",
            "Lithuania",
            "Luxembourg",
            "Malta",
            "Monaco",
            "Netherlands",
            "Norway",
            "Poland",
            "Portugal",
            "Romania",
            "Slovakia",
            "Slovenia",
            "Spain",
            "Sweden",
            "Switzerland",
            "United Kingdom of Great Britain and Northern Ireland"
           ],
           "legendgroup": "High Income",
           "marker": {
            "color": "#636efa",
            "size": [
             147505,
             67084,
             1020,
             1909,
             36023,
             321,
             23941,
             492938,
             1217992,
             108600,
             4742,
             1818,
             9571,
             142345,
             705,
             133,
             1880,
             6001,
             8709,
             17,
             96764,
             46014,
             4875,
             2651,
             4200,
             1046,
             839,
             122507,
             240317,
             117180,
             135271
            ],
            "sizemode": "area",
            "sizeref": 338.3311111111111,
            "symbol": "circle"
           },
           "mode": "markers",
           "name": "High Income",
           "orientation": "v",
           "showlegend": true,
           "type": "scatter",
           "x": [
            480368403893.364,
            594104177539.525,
            68955083280.1922,
            281777887121.451,
            398303272764.46,
            37191166151.98,
            297301883523.251,
            2957879759263.52,
            4259934911821.64,
            214873879833.648,
            181848022233.89,
            25602419210.3374,
            504182603275.542,
            2107702842669.73,
            39853501579.8211,
            null,
            66445256585.3671,
            85506243833.7816,
            17364044943.8202,
            8596096984.03312,
            1012846760976.73,
            482174854481.956,
            679444832854.295,
            253663144586.019,
            284087563695.798,
            116527101097.7,
            61748586534.8672,
            1427380681294.55,
            635663801201.765,
            800640155387.26,
            3131377762925.95
           ],
           "xaxis": "x",
           "y": [
            8955797,
            11592952,
            3899000,
            10505772,
            5856733,
            1330932,
            5541017,
            67749632,
            83196078,
            10641221,
            9709891,
            372520,
            5033165,
            59109668,
            1884490,
            39039,
            2800839,
            640064,
            518536,
            36686,
            17533044,
            5408320,
            37747124,
            10325147,
            19119880,
            5447247,
            2108079,
            47415750,
            10415811,
            8703405,
            67326569
           ],
           "yaxis": "y"
          },
          {
           "hovertemplate": "<b>%{hovertext}</b><br><br>Income level=Middle Income<br>Year=2021<br>GDP=%{x}<br>Population=%{y}<br>Refugees under UNHCR's mandate=%{marker.size}<extra></extra>",
           "hovertext": [
            "Albania",
            "Belarus",
            "Bosnia and Herzegovina",
            "Bulgaria",
            "Montenegro",
            "North Macedonia",
            "Rep. of Moldova",
            "Russian Federation",
            "Serbia and Kosovo: S/RES/1244 (1999)",
            "Ukraine"
           ],
           "ids": [
            "Albania",
            "Belarus",
            "Bosnia and Herzegovina",
            "Bulgaria",
            "Montenegro",
            "North Macedonia",
            "Rep. of Moldova",
            "Russian Federation",
            "Serbia and Kosovo: S/RES/1244 (1999)",
            "Ukraine"
           ],
           "legendgroup": "Middle Income",
           "marker": {
            "color": "#EF553B",
            "size": [
             109,
             2729,
             240,
             22830,
             175,
             292,
             349,
             10896,
             25644,
             2382
            ],
            "sizemode": "area",
            "sizeref": 338.3311111111111,
            "symbol": "circle"
           },
           "mode": "markers",
           "name": "Middle Income",
           "orientation": "v",
           "showlegend": true,
           "type": "scatter",
           "x": [
            18255787479.1846,
            68205380706.6609,
            23365361635.2201,
            84056312734.3089,
            5861268038.7982,
            13825049831.7959,
            13679221333.2052,
            1778782625793.74,
            63082047649.8528,
            200085537744.354
           ],
           "xaxis": "x",
           "y": [
            2811666,
            9340314,
            3270943,
            6877743,
            619211,
            2065092,
            2615199,
            143449286,
            6834326,
            43792855
           ],
           "yaxis": "y"
          }
         ],
         "name": "2021"
        }
       ],
       "layout": {
        "legend": {
         "itemsizing": "constant",
         "title": {
          "text": "Income level"
         },
         "tracegroupgap": 0
        },
        "margin": {
         "t": 60
        },
        "sliders": [
         {
          "active": 0,
          "currentvalue": {
           "prefix": "Year="
          },
          "len": 0.9,
          "pad": {
           "b": 10,
           "t": 60
          },
          "steps": [
           {
            "args": [
             [
              "2000"
             ],
             {
              "frame": {
               "duration": 0,
               "redraw": false
              },
              "fromcurrent": true,
              "mode": "immediate",
              "transition": {
               "duration": 0,
               "easing": "linear"
              }
             }
            ],
            "label": "2000",
            "method": "animate"
           },
           {
            "args": [
             [
              "2001"
             ],
             {
              "frame": {
               "duration": 0,
               "redraw": false
              },
              "fromcurrent": true,
              "mode": "immediate",
              "transition": {
               "duration": 0,
               "easing": "linear"
              }
             }
            ],
            "label": "2001",
            "method": "animate"
           },
           {
            "args": [
             [
              "2002"
             ],
             {
              "frame": {
               "duration": 0,
               "redraw": false
              },
              "fromcurrent": true,
              "mode": "immediate",
              "transition": {
               "duration": 0,
               "easing": "linear"
              }
             }
            ],
            "label": "2002",
            "method": "animate"
           },
           {
            "args": [
             [
              "2003"
             ],
             {
              "frame": {
               "duration": 0,
               "redraw": false
              },
              "fromcurrent": true,
              "mode": "immediate",
              "transition": {
               "duration": 0,
               "easing": "linear"
              }
             }
            ],
            "label": "2003",
            "method": "animate"
           },
           {
            "args": [
             [
              "2004"
             ],
             {
              "frame": {
               "duration": 0,
               "redraw": false
              },
              "fromcurrent": true,
              "mode": "immediate",
              "transition": {
               "duration": 0,
               "easing": "linear"
              }
             }
            ],
            "label": "2004",
            "method": "animate"
           },
           {
            "args": [
             [
              "2005"
             ],
             {
              "frame": {
               "duration": 0,
               "redraw": false
              },
              "fromcurrent": true,
              "mode": "immediate",
              "transition": {
               "duration": 0,
               "easing": "linear"
              }
             }
            ],
            "label": "2005",
            "method": "animate"
           },
           {
            "args": [
             [
              "2006"
             ],
             {
              "frame": {
               "duration": 0,
               "redraw": false
              },
              "fromcurrent": true,
              "mode": "immediate",
              "transition": {
               "duration": 0,
               "easing": "linear"
              }
             }
            ],
            "label": "2006",
            "method": "animate"
           },
           {
            "args": [
             [
              "2007"
             ],
             {
              "frame": {
               "duration": 0,
               "redraw": false
              },
              "fromcurrent": true,
              "mode": "immediate",
              "transition": {
               "duration": 0,
               "easing": "linear"
              }
             }
            ],
            "label": "2007",
            "method": "animate"
           },
           {
            "args": [
             [
              "2008"
             ],
             {
              "frame": {
               "duration": 0,
               "redraw": false
              },
              "fromcurrent": true,
              "mode": "immediate",
              "transition": {
               "duration": 0,
               "easing": "linear"
              }
             }
            ],
            "label": "2008",
            "method": "animate"
           },
           {
            "args": [
             [
              "2009"
             ],
             {
              "frame": {
               "duration": 0,
               "redraw": false
              },
              "fromcurrent": true,
              "mode": "immediate",
              "transition": {
               "duration": 0,
               "easing": "linear"
              }
             }
            ],
            "label": "2009",
            "method": "animate"
           },
           {
            "args": [
             [
              "2010"
             ],
             {
              "frame": {
               "duration": 0,
               "redraw": false
              },
              "fromcurrent": true,
              "mode": "immediate",
              "transition": {
               "duration": 0,
               "easing": "linear"
              }
             }
            ],
            "label": "2010",
            "method": "animate"
           },
           {
            "args": [
             [
              "2011"
             ],
             {
              "frame": {
               "duration": 0,
               "redraw": false
              },
              "fromcurrent": true,
              "mode": "immediate",
              "transition": {
               "duration": 0,
               "easing": "linear"
              }
             }
            ],
            "label": "2011",
            "method": "animate"
           },
           {
            "args": [
             [
              "2012"
             ],
             {
              "frame": {
               "duration": 0,
               "redraw": false
              },
              "fromcurrent": true,
              "mode": "immediate",
              "transition": {
               "duration": 0,
               "easing": "linear"
              }
             }
            ],
            "label": "2012",
            "method": "animate"
           },
           {
            "args": [
             [
              "2013"
             ],
             {
              "frame": {
               "duration": 0,
               "redraw": false
              },
              "fromcurrent": true,
              "mode": "immediate",
              "transition": {
               "duration": 0,
               "easing": "linear"
              }
             }
            ],
            "label": "2013",
            "method": "animate"
           },
           {
            "args": [
             [
              "2014"
             ],
             {
              "frame": {
               "duration": 0,
               "redraw": false
              },
              "fromcurrent": true,
              "mode": "immediate",
              "transition": {
               "duration": 0,
               "easing": "linear"
              }
             }
            ],
            "label": "2014",
            "method": "animate"
           },
           {
            "args": [
             [
              "2015"
             ],
             {
              "frame": {
               "duration": 0,
               "redraw": false
              },
              "fromcurrent": true,
              "mode": "immediate",
              "transition": {
               "duration": 0,
               "easing": "linear"
              }
             }
            ],
            "label": "2015",
            "method": "animate"
           },
           {
            "args": [
             [
              "2016"
             ],
             {
              "frame": {
               "duration": 0,
               "redraw": false
              },
              "fromcurrent": true,
              "mode": "immediate",
              "transition": {
               "duration": 0,
               "easing": "linear"
              }
             }
            ],
            "label": "2016",
            "method": "animate"
           },
           {
            "args": [
             [
              "2017"
             ],
             {
              "frame": {
               "duration": 0,
               "redraw": false
              },
              "fromcurrent": true,
              "mode": "immediate",
              "transition": {
               "duration": 0,
               "easing": "linear"
              }
             }
            ],
            "label": "2017",
            "method": "animate"
           },
           {
            "args": [
             [
              "2018"
             ],
             {
              "frame": {
               "duration": 0,
               "redraw": false
              },
              "fromcurrent": true,
              "mode": "immediate",
              "transition": {
               "duration": 0,
               "easing": "linear"
              }
             }
            ],
            "label": "2018",
            "method": "animate"
           },
           {
            "args": [
             [
              "2019"
             ],
             {
              "frame": {
               "duration": 0,
               "redraw": false
              },
              "fromcurrent": true,
              "mode": "immediate",
              "transition": {
               "duration": 0,
               "easing": "linear"
              }
             }
            ],
            "label": "2019",
            "method": "animate"
           },
           {
            "args": [
             [
              "2020"
             ],
             {
              "frame": {
               "duration": 0,
               "redraw": false
              },
              "fromcurrent": true,
              "mode": "immediate",
              "transition": {
               "duration": 0,
               "easing": "linear"
              }
             }
            ],
            "label": "2020",
            "method": "animate"
           },
           {
            "args": [
             [
              "2021"
             ],
             {
              "frame": {
               "duration": 0,
               "redraw": false
              },
              "fromcurrent": true,
              "mode": "immediate",
              "transition": {
               "duration": 0,
               "easing": "linear"
              }
             }
            ],
            "label": "2021",
            "method": "animate"
           }
          ],
          "x": 0.1,
          "xanchor": "left",
          "y": 0,
          "yanchor": "top"
         }
        ],
        "template": {
         "data": {
          "bar": [
           {
            "error_x": {
             "color": "#2a3f5f"
            },
            "error_y": {
             "color": "#2a3f5f"
            },
            "marker": {
             "line": {
              "color": "white",
              "width": 0.5
             },
             "pattern": {
              "fillmode": "overlay",
              "size": 10,
              "solidity": 0.2
             }
            },
            "type": "bar"
           }
          ],
          "barpolar": [
           {
            "marker": {
             "line": {
              "color": "white",
              "width": 0.5
             },
             "pattern": {
              "fillmode": "overlay",
              "size": 10,
              "solidity": 0.2
             }
            },
            "type": "barpolar"
           }
          ],
          "carpet": [
           {
            "aaxis": {
             "endlinecolor": "#2a3f5f",
             "gridcolor": "#C8D4E3",
             "linecolor": "#C8D4E3",
             "minorgridcolor": "#C8D4E3",
             "startlinecolor": "#2a3f5f"
            },
            "baxis": {
             "endlinecolor": "#2a3f5f",
             "gridcolor": "#C8D4E3",
             "linecolor": "#C8D4E3",
             "minorgridcolor": "#C8D4E3",
             "startlinecolor": "#2a3f5f"
            },
            "type": "carpet"
           }
          ],
          "choropleth": [
           {
            "colorbar": {
             "outlinewidth": 0,
             "ticks": ""
            },
            "type": "choropleth"
           }
          ],
          "contour": [
           {
            "colorbar": {
             "outlinewidth": 0,
             "ticks": ""
            },
            "colorscale": [
             [
              0,
              "#0d0887"
             ],
             [
              0.1111111111111111,
              "#46039f"
             ],
             [
              0.2222222222222222,
              "#7201a8"
             ],
             [
              0.3333333333333333,
              "#9c179e"
             ],
             [
              0.4444444444444444,
              "#bd3786"
             ],
             [
              0.5555555555555556,
              "#d8576b"
             ],
             [
              0.6666666666666666,
              "#ed7953"
             ],
             [
              0.7777777777777778,
              "#fb9f3a"
             ],
             [
              0.8888888888888888,
              "#fdca26"
             ],
             [
              1,
              "#f0f921"
             ]
            ],
            "type": "contour"
           }
          ],
          "contourcarpet": [
           {
            "colorbar": {
             "outlinewidth": 0,
             "ticks": ""
            },
            "type": "contourcarpet"
           }
          ],
          "heatmap": [
           {
            "colorbar": {
             "outlinewidth": 0,
             "ticks": ""
            },
            "colorscale": [
             [
              0,
              "#0d0887"
             ],
             [
              0.1111111111111111,
              "#46039f"
             ],
             [
              0.2222222222222222,
              "#7201a8"
             ],
             [
              0.3333333333333333,
              "#9c179e"
             ],
             [
              0.4444444444444444,
              "#bd3786"
             ],
             [
              0.5555555555555556,
              "#d8576b"
             ],
             [
              0.6666666666666666,
              "#ed7953"
             ],
             [
              0.7777777777777778,
              "#fb9f3a"
             ],
             [
              0.8888888888888888,
              "#fdca26"
             ],
             [
              1,
              "#f0f921"
             ]
            ],
            "type": "heatmap"
           }
          ],
          "heatmapgl": [
           {
            "colorbar": {
             "outlinewidth": 0,
             "ticks": ""
            },
            "colorscale": [
             [
              0,
              "#0d0887"
             ],
             [
              0.1111111111111111,
              "#46039f"
             ],
             [
              0.2222222222222222,
              "#7201a8"
             ],
             [
              0.3333333333333333,
              "#9c179e"
             ],
             [
              0.4444444444444444,
              "#bd3786"
             ],
             [
              0.5555555555555556,
              "#d8576b"
             ],
             [
              0.6666666666666666,
              "#ed7953"
             ],
             [
              0.7777777777777778,
              "#fb9f3a"
             ],
             [
              0.8888888888888888,
              "#fdca26"
             ],
             [
              1,
              "#f0f921"
             ]
            ],
            "type": "heatmapgl"
           }
          ],
          "histogram": [
           {
            "marker": {
             "pattern": {
              "fillmode": "overlay",
              "size": 10,
              "solidity": 0.2
             }
            },
            "type": "histogram"
           }
          ],
          "histogram2d": [
           {
            "colorbar": {
             "outlinewidth": 0,
             "ticks": ""
            },
            "colorscale": [
             [
              0,
              "#0d0887"
             ],
             [
              0.1111111111111111,
              "#46039f"
             ],
             [
              0.2222222222222222,
              "#7201a8"
             ],
             [
              0.3333333333333333,
              "#9c179e"
             ],
             [
              0.4444444444444444,
              "#bd3786"
             ],
             [
              0.5555555555555556,
              "#d8576b"
             ],
             [
              0.6666666666666666,
              "#ed7953"
             ],
             [
              0.7777777777777778,
              "#fb9f3a"
             ],
             [
              0.8888888888888888,
              "#fdca26"
             ],
             [
              1,
              "#f0f921"
             ]
            ],
            "type": "histogram2d"
           }
          ],
          "histogram2dcontour": [
           {
            "colorbar": {
             "outlinewidth": 0,
             "ticks": ""
            },
            "colorscale": [
             [
              0,
              "#0d0887"
             ],
             [
              0.1111111111111111,
              "#46039f"
             ],
             [
              0.2222222222222222,
              "#7201a8"
             ],
             [
              0.3333333333333333,
              "#9c179e"
             ],
             [
              0.4444444444444444,
              "#bd3786"
             ],
             [
              0.5555555555555556,
              "#d8576b"
             ],
             [
              0.6666666666666666,
              "#ed7953"
             ],
             [
              0.7777777777777778,
              "#fb9f3a"
             ],
             [
              0.8888888888888888,
              "#fdca26"
             ],
             [
              1,
              "#f0f921"
             ]
            ],
            "type": "histogram2dcontour"
           }
          ],
          "mesh3d": [
           {
            "colorbar": {
             "outlinewidth": 0,
             "ticks": ""
            },
            "type": "mesh3d"
           }
          ],
          "parcoords": [
           {
            "line": {
             "colorbar": {
              "outlinewidth": 0,
              "ticks": ""
             }
            },
            "type": "parcoords"
           }
          ],
          "pie": [
           {
            "automargin": true,
            "type": "pie"
           }
          ],
          "scatter": [
           {
            "fillpattern": {
             "fillmode": "overlay",
             "size": 10,
             "solidity": 0.2
            },
            "type": "scatter"
           }
          ],
          "scatter3d": [
           {
            "line": {
             "colorbar": {
              "outlinewidth": 0,
              "ticks": ""
             }
            },
            "marker": {
             "colorbar": {
              "outlinewidth": 0,
              "ticks": ""
             }
            },
            "type": "scatter3d"
           }
          ],
          "scattercarpet": [
           {
            "marker": {
             "colorbar": {
              "outlinewidth": 0,
              "ticks": ""
             }
            },
            "type": "scattercarpet"
           }
          ],
          "scattergeo": [
           {
            "marker": {
             "colorbar": {
              "outlinewidth": 0,
              "ticks": ""
             }
            },
            "type": "scattergeo"
           }
          ],
          "scattergl": [
           {
            "marker": {
             "colorbar": {
              "outlinewidth": 0,
              "ticks": ""
             }
            },
            "type": "scattergl"
           }
          ],
          "scattermapbox": [
           {
            "marker": {
             "colorbar": {
              "outlinewidth": 0,
              "ticks": ""
             }
            },
            "type": "scattermapbox"
           }
          ],
          "scatterpolar": [
           {
            "marker": {
             "colorbar": {
              "outlinewidth": 0,
              "ticks": ""
             }
            },
            "type": "scatterpolar"
           }
          ],
          "scatterpolargl": [
           {
            "marker": {
             "colorbar": {
              "outlinewidth": 0,
              "ticks": ""
             }
            },
            "type": "scatterpolargl"
           }
          ],
          "scatterternary": [
           {
            "marker": {
             "colorbar": {
              "outlinewidth": 0,
              "ticks": ""
             }
            },
            "type": "scatterternary"
           }
          ],
          "surface": [
           {
            "colorbar": {
             "outlinewidth": 0,
             "ticks": ""
            },
            "colorscale": [
             [
              0,
              "#0d0887"
             ],
             [
              0.1111111111111111,
              "#46039f"
             ],
             [
              0.2222222222222222,
              "#7201a8"
             ],
             [
              0.3333333333333333,
              "#9c179e"
             ],
             [
              0.4444444444444444,
              "#bd3786"
             ],
             [
              0.5555555555555556,
              "#d8576b"
             ],
             [
              0.6666666666666666,
              "#ed7953"
             ],
             [
              0.7777777777777778,
              "#fb9f3a"
             ],
             [
              0.8888888888888888,
              "#fdca26"
             ],
             [
              1,
              "#f0f921"
             ]
            ],
            "type": "surface"
           }
          ],
          "table": [
           {
            "cells": {
             "fill": {
              "color": "#EBF0F8"
             },
             "line": {
              "color": "white"
             }
            },
            "header": {
             "fill": {
              "color": "#C8D4E3"
             },
             "line": {
              "color": "white"
             }
            },
            "type": "table"
           }
          ]
         },
         "layout": {
          "annotationdefaults": {
           "arrowcolor": "#2a3f5f",
           "arrowhead": 0,
           "arrowwidth": 1
          },
          "autotypenumbers": "strict",
          "coloraxis": {
           "colorbar": {
            "outlinewidth": 0,
            "ticks": ""
           }
          },
          "colorscale": {
           "diverging": [
            [
             0,
             "#8e0152"
            ],
            [
             0.1,
             "#c51b7d"
            ],
            [
             0.2,
             "#de77ae"
            ],
            [
             0.3,
             "#f1b6da"
            ],
            [
             0.4,
             "#fde0ef"
            ],
            [
             0.5,
             "#f7f7f7"
            ],
            [
             0.6,
             "#e6f5d0"
            ],
            [
             0.7,
             "#b8e186"
            ],
            [
             0.8,
             "#7fbc41"
            ],
            [
             0.9,
             "#4d9221"
            ],
            [
             1,
             "#276419"
            ]
           ],
           "sequential": [
            [
             0,
             "#0d0887"
            ],
            [
             0.1111111111111111,
             "#46039f"
            ],
            [
             0.2222222222222222,
             "#7201a8"
            ],
            [
             0.3333333333333333,
             "#9c179e"
            ],
            [
             0.4444444444444444,
             "#bd3786"
            ],
            [
             0.5555555555555556,
             "#d8576b"
            ],
            [
             0.6666666666666666,
             "#ed7953"
            ],
            [
             0.7777777777777778,
             "#fb9f3a"
            ],
            [
             0.8888888888888888,
             "#fdca26"
            ],
            [
             1,
             "#f0f921"
            ]
           ],
           "sequentialminus": [
            [
             0,
             "#0d0887"
            ],
            [
             0.1111111111111111,
             "#46039f"
            ],
            [
             0.2222222222222222,
             "#7201a8"
            ],
            [
             0.3333333333333333,
             "#9c179e"
            ],
            [
             0.4444444444444444,
             "#bd3786"
            ],
            [
             0.5555555555555556,
             "#d8576b"
            ],
            [
             0.6666666666666666,
             "#ed7953"
            ],
            [
             0.7777777777777778,
             "#fb9f3a"
            ],
            [
             0.8888888888888888,
             "#fdca26"
            ],
            [
             1,
             "#f0f921"
            ]
           ]
          },
          "colorway": [
           "#636efa",
           "#EF553B",
           "#00cc96",
           "#ab63fa",
           "#FFA15A",
           "#19d3f3",
           "#FF6692",
           "#B6E880",
           "#FF97FF",
           "#FECB52"
          ],
          "font": {
           "color": "#2a3f5f"
          },
          "geo": {
           "bgcolor": "white",
           "lakecolor": "white",
           "landcolor": "white",
           "showlakes": true,
           "showland": true,
           "subunitcolor": "#C8D4E3"
          },
          "hoverlabel": {
           "align": "left"
          },
          "hovermode": "closest",
          "mapbox": {
           "style": "light"
          },
          "paper_bgcolor": "white",
          "plot_bgcolor": "white",
          "polar": {
           "angularaxis": {
            "gridcolor": "#EBF0F8",
            "linecolor": "#EBF0F8",
            "ticks": ""
           },
           "bgcolor": "white",
           "radialaxis": {
            "gridcolor": "#EBF0F8",
            "linecolor": "#EBF0F8",
            "ticks": ""
           }
          },
          "scene": {
           "xaxis": {
            "backgroundcolor": "white",
            "gridcolor": "#DFE8F3",
            "gridwidth": 2,
            "linecolor": "#EBF0F8",
            "showbackground": true,
            "ticks": "",
            "zerolinecolor": "#EBF0F8"
           },
           "yaxis": {
            "backgroundcolor": "white",
            "gridcolor": "#DFE8F3",
            "gridwidth": 2,
            "linecolor": "#EBF0F8",
            "showbackground": true,
            "ticks": "",
            "zerolinecolor": "#EBF0F8"
           },
           "zaxis": {
            "backgroundcolor": "white",
            "gridcolor": "#DFE8F3",
            "gridwidth": 2,
            "linecolor": "#EBF0F8",
            "showbackground": true,
            "ticks": "",
            "zerolinecolor": "#EBF0F8"
           }
          },
          "shapedefaults": {
           "line": {
            "color": "#2a3f5f"
           }
          },
          "ternary": {
           "aaxis": {
            "gridcolor": "#DFE8F3",
            "linecolor": "#A2B1C6",
            "ticks": ""
           },
           "baxis": {
            "gridcolor": "#DFE8F3",
            "linecolor": "#A2B1C6",
            "ticks": ""
           },
           "bgcolor": "white",
           "caxis": {
            "gridcolor": "#DFE8F3",
            "linecolor": "#A2B1C6",
            "ticks": ""
           }
          },
          "title": {
           "x": 0.05
          },
          "xaxis": {
           "automargin": true,
           "gridcolor": "#EBF0F8",
           "linecolor": "#EBF0F8",
           "ticks": "",
           "title": {
            "standoff": 15
           },
           "zerolinecolor": "#EBF0F8",
           "zerolinewidth": 2
          },
          "yaxis": {
           "automargin": true,
           "gridcolor": "#EBF0F8",
           "linecolor": "#EBF0F8",
           "ticks": "",
           "title": {
            "standoff": 15
           },
           "zerolinecolor": "#EBF0F8",
           "zerolinewidth": 2
          }
         }
        },
        "title": {
         "font": {
          "family": "Arial",
          "size": 20
         },
         "text": "Refugee Influx of European Countries by GDP and Population"
        },
        "updatemenus": [
         {
          "buttons": [
           {
            "args": [
             null,
             {
              "frame": {
               "duration": 500,
               "redraw": false
              },
              "fromcurrent": true,
              "mode": "immediate",
              "transition": {
               "duration": 500,
               "easing": "linear"
              }
             }
            ],
            "label": "&#9654;",
            "method": "animate"
           },
           {
            "args": [
             [
              null
             ],
             {
              "frame": {
               "duration": 0,
               "redraw": false
              },
              "fromcurrent": true,
              "mode": "immediate",
              "transition": {
               "duration": 0,
               "easing": "linear"
              }
             }
            ],
            "label": "&#9724;",
            "method": "animate"
           }
          ],
          "direction": "left",
          "pad": {
           "r": 10,
           "t": 70
          },
          "showactive": false,
          "type": "buttons",
          "x": 0.1,
          "xanchor": "right",
          "y": 0,
          "yanchor": "top"
         }
        ],
        "xaxis": {
         "anchor": "y",
         "domain": [
          0,
          1
         ],
         "range": [
          9.477121254719663,
          12.903089986991942
         ],
         "title": {
          "font": {
           "family": "Arial",
           "size": 18
          },
          "text": "GDP (USD)"
         },
         "type": "log"
        },
        "yaxis": {
         "anchor": "x",
         "domain": [
          0,
          1
         ],
         "range": [
          5.999999999999999,
          8.999999999999998
         ],
         "title": {
          "font": {
           "family": "Arial",
           "size": 18
          },
          "text": "Population"
         },
         "type": "log"
        }
       }
      }
     },
     "metadata": {},
     "output_type": "display_data"
    }
   ],
   "source": [
    "import wbdata\n",
    "import datetime\n",
    "import pandas as pd\n",
    "import pycountry\n",
    "from pycountry_convert import country_alpha2_to_continent_code, convert_continent_code_to_continent_name\n",
    "\n",
    "df = pd.read_csv(\"../data/population1.csv\")\n",
    "df = df.dropna(subset=['Country of origin (ISO)', 'Country of asylum (ISO)'])\n",
    "\n",
    "# Define a function to determine the continent of each country\n",
    "def iso_to_continent(country_iso):\n",
    "    try:\n",
    "        country = pycountry.countries.get(alpha_3=country_iso)\n",
    "        country_alpha2 = country.alpha_2\n",
    "        continent_code = country_alpha2_to_continent_code(country_alpha2)\n",
    "        continent_name = convert_continent_code_to_continent_name(continent_code)\n",
    "        return continent_name\n",
    "    except (KeyError, AttributeError):\n",
    "        return None\n",
    "    \n",
    "# Clean dataset\n",
    "df['asy_continent'] = df['Country of asylum (ISO)'].apply(iso_to_continent)\n",
    "\n",
    "df = df.dropna()\n",
    "df2 =df[df[\"asy_continent\"]==\"Europe\"]\n",
    "df2 = df2[df2[\"Year\"]>=2000]\n",
    "df2 = df2[df2[\"Year\"]<=2021]\n",
    "df3 = df2.groupby([\"Country of asylum\", \"Country of asylum (ISO)\", \"Year\"]).sum(\"Refugees under UNHCR's mandate\")\n",
    "df4 = df3[df3[\"Refugees under UNHCR's mandate\"] != 0].reset_index()\n",
    "\n",
    "df4.to_csv('gdp.csv', index=False)\n",
    "\n",
    "\n",
    "# Function to get the population, GDP, and income level for each country\n",
    "for index, row in df4.iterrows():\n",
    "    # print(row[\"Country of asylum (ISO)\"])\n",
    "    data_date = datetime.datetime(row[\"Year\"], 1, 1)\n",
    "    # print(row[\"Year\"])\n",
    "    gdp_data = wbdata.get_data(\"NY.GDP.MKTP.CD\", country=row[\"Country of asylum (ISO)\"], data_date=data_date)\n",
    "    population_data = wbdata.get_data(\"SP.POP.TOTL\", country=row[\"Country of asylum (ISO)\"], data_date=data_date)\n",
    "    if row[\"Year\"] == 2021:\n",
    "        gni_data = wbdata.get_data(\"NY.GNP.MKTP.PC.CD\", country=row[\"Country of asylum (ISO)\"], data_date=datetime.datetime(2020, 1, 1))\n",
    "    else:\n",
    "        gni_data = wbdata.get_data(\"NY.GNP.MKTP.PC.CD\", country=row[\"Country of asylum (ISO)\"], data_date=data_date)\n",
    "\n",
    "    df4.at[index, \"GDP\"] = gdp_data[0][\"value\"]\n",
    "    df4.at[index, \"Population\"] = population_data[0][\"value\"]\n",
    "\n",
    "    if row[\"Country of asylum (ISO)\"] == \"GRC\":\n",
    "        df4.at[index, \"Income level\"] = \"High Income\"\n",
    "    elif row[\"Country of asylum (ISO)\"] == \"LIE\":\n",
    "        df4.at[index, \"Income level\"] = \"High Income\"\n",
    "    elif row[\"Country of asylum (ISO)\"] == \"MCO\":\n",
    "        df4.at[index, \"Income level\"] = \"High Income\"\n",
    "    elif gni_data[0][\"value\"] > 12475:\n",
    "        df4.at[index, \"Income level\"] = \"High Income\"\n",
    "    elif gni_data[0][\"value\"] < 12475:\n",
    "        df4.at[index, \"Income level\"] = \"Middle Income\"\n",
    "\n",
    "df4.to_csv('gdp.csv', index=False)\n",
    "\n",
    "# Plot with plotly\n",
    "import plotly.express as px\n",
    "df = px.data.gapminder()\n",
    "\n",
    "fig = px.scatter(df4, x=\"GDP\", y=\"Population\", animation_frame=\"Year\",animation_group=\"Country of asylum\",\n",
    "                 size=\"Refugees under UNHCR's mandate\", color=\"Income level\", range_x=[3000000000,8000000000000], range_y=[1000000,1000000000],\n",
    "                 category_orders={\"Income level\": [\"High Income\", \"Middle Income\"]},\n",
    "                 hover_name=\"Country of asylum\", log_x=True, log_y=True, size_max=60)\n",
    "\n",
    "fig.update_xaxes(title_text=\"GDP (USD)\")\n",
    "fig.update_layout(template=\"plotly_white\",\n",
    "    title=dict(\n",
    "    text=\"Refugee Influx of European Countries by GDP and Population\",\n",
    "    font=dict(\n",
    "    family=\"Arial\", size=20)\n",
    "    ),\n",
    "\n",
    "    yaxis_title=dict(\n",
    "    # text=\"Asylum Countries of Ukraine Refugees from 2014 to 2022\",\n",
    "    font=dict(\n",
    "    family=\"Arial\", size=18)\n",
    "    ),\n",
    "\n",
    "    xaxis_title=dict(\n",
    "    # text=\"Asylum Countries of Ukraine Refugees from 2014 to 2022\",\n",
    "    font=dict(\n",
    "    family=\"Arial\", size=18)\n",
    "    ))\n",
    "fig.show()"
   ]
  }
 ],
 "metadata": {
  "kernelspec": {
   "display_name": "base",
   "language": "python",
   "name": "python3"
  },
  "language_info": {
   "codemirror_mode": {
    "name": "ipython",
    "version": 3
   },
   "file_extension": ".py",
   "mimetype": "text/x-python",
   "name": "python",
   "nbconvert_exporter": "python",
   "pygments_lexer": "ipython3",
   "version": "3.8.8"
  },
  "orig_nbformat": 4
 },
 "nbformat": 4,
 "nbformat_minor": 2
}
